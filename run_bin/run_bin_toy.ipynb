{
 "cells": [
  {
   "cell_type": "code",
   "execution_count": 1,
   "metadata": {},
   "outputs": [],
   "source": [
    "# std packages\n",
    "%matplotlib inline\n",
    "import numpy as np\n",
    "import scipy.interpolate as interp\n",
    "import scipy.signal as sig\n",
    "import scipy.optimize as opt\n",
    "import scipy.integrate as integ\n",
    "import scipy.linalg as sla\n",
    "import matplotlib.pyplot as plt\n",
    "from matplotlib import gridspec\n",
    "from matplotlib import rc\n",
    "import h5py as h5\n",
    "import os, sys\n",
    "import timeit\n",
    "\n",
    "plt.rc('figure', figsize=(9, 7))\n",
    "plt.rcParams.update({'text.usetex': False,\n",
    "                     'font.family': 'serif',\n",
    "                     'font.serif': ['Georgia'],\n",
    "                     'mathtext.fontset': 'cm',\n",
    "                     'lines.linewidth': 2.5,\n",
    "                     'font.size': 20,\n",
    "                     'xtick.labelsize': 'large',\n",
    "                     'ytick.labelsize': 'large',\n",
    "                     'xtick.direction': 'in',\n",
    "                     'ytick.direction': 'in',\n",
    "                     'axes.labelsize': 'large',\n",
    "                     'axes.titlesize': 'large',\n",
    "                     'axes.grid': True,\n",
    "                     'grid.alpha': 0.5,\n",
    "                     'lines.markersize': 12,\n",
    "                     'legend.borderpad': 0.2,\n",
    "                     'legend.fancybox': True,\n",
    "                     'legend.fontsize': 17,\n",
    "                     'legend.framealpha': 0.7,\n",
    "                     'legend.handletextpad': 0.5,\n",
    "                     'legend.labelspacing': 0.2,\n",
    "                     'legend.loc': 'best',\n",
    "                     'savefig.bbox': 'tight',\n",
    "                     'savefig.pad_inches': 0.05,\n",
    "                     'savefig.dpi': 80,\n",
    "                     'pdf.compression': 9})\n",
    "\n",
    "sys.path.append('../')\n",
    "\n",
    "from myConstants import *\n",
    "import LKlib as LK\n"
   ]
  },
  {
   "cell_type": "code",
   "execution_count": null,
   "metadata": {},
   "outputs": [],
   "source": [
    "# fixed pars"
   ]
  },
  {
   "cell_type": "code",
   "execution_count": 2,
   "metadata": {},
   "outputs": [
    {
     "name": "stdout",
     "output_type": "stream",
     "text": [
      "4.870373e+06 1.977539e+07\n"
     ]
    }
   ],
   "source": [
    "Mt_Ms = 50\n",
    "qq = 0.8\n",
    "chi1, chi2 = 0.7, 0.7\n",
    "\n",
    "M1 = Mt_Ms / (1.+qq) * Ms\n",
    "M2 = M1 * qq\n",
    "Mt = M1 + M2\n",
    "mu = M1 * M2 / Mt\n",
    "eta = mu / Mt\n",
    "\n",
    "S1 = chi1 * G*M1**2./c\n",
    "S2 = chi2 * G*M2**2./c\n",
    "\n",
    "r_Mt = G*Mt/c**2.\n",
    "t_Mt = r_Mt/c\n",
    "t_Mt_pi = t_Mt * np.pi\n",
    "\n",
    "S_Mt = G*Mt**2./c\n",
    "\n",
    "par = np.array([M1, M2, 0, 0, \n",
    "                1e3*t_Mt, S_Mt, 0, r_Mt, S_Mt, S_Mt, \n",
    "                1, 1])\n",
    "\n",
    "__, __, __, __, \\\n",
    "t_unit, L_unit, __, \\\n",
    "a_unit, S1_unit, S2_unit, \\\n",
    "__, __ = par\n",
    "\n",
    "t_gw = LK.get_inst_t_gw_from_a_orb(M1, M2, 500.*r_Mt, 0)\n",
    "print('%e'%t_gw, '%e'%(t_gw/t_unit))"
   ]
  },
  {
   "cell_type": "code",
   "execution_count": null,
   "metadata": {},
   "outputs": [],
   "source": [
    "# sample initial cond"
   ]
  },
  {
   "cell_type": "code",
   "execution_count": 3,
   "metadata": {},
   "outputs": [
    {
     "name": "stdout",
     "output_type": "stream",
     "text": [
      "0.29203503952612897 3.7679580348915716\n",
      "[ 5.00000000e+02  0.00000000e+00  0.00000000e+00  5.52115550e+00\n",
      "  0.00000000e+00  0.00000000e+00  0.00000000e+00 -1.67405114e-01\n",
      " -1.21128081e-01  6.30939900e-02 -9.05234385e-03 -9.22737100e-02\n",
      "  1.02579990e-01]\n",
      "[-2.52839506e-05 -3.24793010e-05  2.48824156e-05 -1.39596623e-07\n",
      "  0.00000000e+00  0.00000000e+00  0.00000000e+00  1.69243766e-05\n",
      " -2.34202419e-05 -5.74023917e-08  1.55549244e-05 -1.46217365e-06\n",
      "  5.74023917e-08]\n"
     ]
    }
   ],
   "source": [
    "a_init = 500.*r_Mt \n",
    "L_init = mu * np.sqrt(G*Mt*a_init)\n",
    "\n",
    "L_v_init = np.array([0, 0, 1]) * L_init\n",
    "\n",
    "cS1L = np.random.uniform()\n",
    "cS2L = np.random.uniform()\n",
    "\n",
    "phiS1 = np.random.uniform() * 2.*np.pi\n",
    "phiS2 = np.random.uniform() * 2.*np.pi\n",
    "\n",
    "print(cS1L, phiS1)\n",
    "\n",
    "sS1L = np.sqrt(1.-cS1L**2.)\n",
    "sS2L = np.sqrt(1.-cS2L**2.)\n",
    "\n",
    "S1_v_init = np.array([\n",
    "    sS1L * np.cos(phiS1), \n",
    "    sS1L * np.sin(phiS1), \n",
    "    cS1L]) * S1\n",
    "S2_v_init = np.array([\n",
    "    sS2L * np.cos(phiS2), \n",
    "    sS2L * np.sin(phiS2), \n",
    "    cS2L]) * S2\n",
    "\n",
    "a_nat_init = a_init / a_unit\n",
    "L_nat_v_init = L_v_init / L_unit\n",
    "e_v = np.zeros(3)\n",
    "S1_nat_v_init = S1_v_init / S1_unit\n",
    "S2_nat_v_init = S2_v_init / S2_unit\n",
    "\n",
    "y_nat_init = np.hstack([\n",
    "    a_nat_init, \\\n",
    "    L_nat_v_init, e_v, \\\n",
    "    S1_nat_v_init, S2_nat_v_init])\n",
    "\n",
    "dy_nat_init = LK.evol_binary(0, y_nat_init, par)\n",
    "\n",
    "print(y_nat_init)\n",
    "print(dy_nat_init)"
   ]
  },
  {
   "cell_type": "code",
   "execution_count": 4,
   "metadata": {},
   "outputs": [
    {
     "name": "stdout",
     "output_type": "stream",
     "text": [
      "13.545427265000004\n"
     ]
    }
   ],
   "source": [
    "# functions to find specific separations\n",
    "def find_a_Mt(t_nat, y_nat, par, \n",
    "           a_Mt_trgt=6):\n",
    "    a_Mt = y_nat[0]\n",
    "    resi = a_Mt - a_Mt_trgt\n",
    "    return resi\n",
    "\n",
    "event1=lambda t_nat_, y_nat_vect_:find_a_Mt(t_nat_, y_nat_vect_, par, a_Mt_trgt=50)\n",
    "event1.direction = -1\n",
    "event1.terminal = False\n",
    "\n",
    "event2=lambda t_nat_, y_nat_vect_:find_a_Mt(t_nat_, y_nat_vect_, par, a_Mt_trgt=25)\n",
    "event2.direction = -1\n",
    "event2.terminal = False\n",
    "\n",
    "event3=lambda t_nat_, y_nat_vect_:find_a_Mt(t_nat_, y_nat_vect_, par, a_Mt_trgt=10)\n",
    "event3.direction = -1\n",
    "event3.terminal = False\n",
    "\n",
    "event4=lambda t_nat_, y_nat_vect_:find_a_Mt(t_nat_, y_nat_vect_, par, a_Mt_trgt=6)\n",
    "event4.direction = -1\n",
    "event4.terminal = True\n",
    "\n",
    "\n",
    "# function to do the integration\n",
    "int_func = lambda t_nat_, y_nat_vect_: LK.evol_binary(t_nat_, y_nat_vect_, par)\n",
    "\n",
    "t_run0 = timeit.default_timer()\n",
    "sol = integ.solve_ivp(int_func, \\\n",
    "        t_span=(0, 1e9), y0=y_nat_init, rtol=1e-12, atol=1e-12, \\\n",
    "        events=[event1, event2, event3, event4])\n",
    "t_run1 = timeit.default_timer()\n",
    "\n",
    "print(t_run1 - t_run0)"
   ]
  },
  {
   "cell_type": "code",
   "execution_count": 5,
   "metadata": {},
   "outputs": [
    {
     "data": {
      "text/plain": [
       "[array([[ 5.00000000e+01,  1.76255414e-01, -6.32408509e-02,\n",
       "          1.73587166e+00,  0.00000000e+00,  0.00000000e+00,\n",
       "          0.00000000e+00, -1.95754441e-01,  5.64464053e-02,\n",
       "          7.19120137e-02, -4.01458326e-02, -6.41989803e-02,\n",
       "          1.15697189e-01]]),\n",
       " array([[ 2.50000000e+01,  3.17485139e-02, -1.16671116e-01,\n",
       "          1.22863249e+00,  0.00000000e+00,  0.00000000e+00,\n",
       "          0.00000000e+00, -1.74104329e-01, -1.10565711e-02,\n",
       "          1.27447128e-01,  9.92303308e-02,  7.59138702e-02,\n",
       "          5.92407147e-02]]),\n",
       " array([[10.        , -0.06404628, -0.1038199 ,  0.77122154,  0.        ,\n",
       "          0.        ,  0.        ,  0.14171709, -0.01931526,  0.16192752,\n",
       "         -0.10383525,  0.08414397,  0.03545516]]),\n",
       " array([[ 5.99999999e+00, -2.54001421e-02, -5.79989202e-03,\n",
       "          6.04250851e-01,  0.00000000e+00,  0.00000000e+00,\n",
       "          0.00000000e+00, -1.08859622e-01,  6.18406876e-02,\n",
       "          1.76075687e-01,  1.08370939e-01, -8.49034011e-02,\n",
       "          1.28914157e-02]])]"
      ]
     },
     "execution_count": 5,
     "metadata": {},
     "output_type": "execute_result"
    }
   ],
   "source": [
    "sol.y_events"
   ]
  },
  {
   "cell_type": "code",
   "execution_count": 6,
   "metadata": {},
   "outputs": [
    {
     "data": {
      "text/plain": [
       "4"
      ]
     },
     "execution_count": 6,
     "metadata": {},
     "output_type": "execute_result"
    }
   ],
   "source": [
    "len(sol.y_events)"
   ]
  },
  {
   "cell_type": "code",
   "execution_count": null,
   "metadata": {},
   "outputs": [],
   "source": []
  }
 ],
 "metadata": {
  "kernelspec": {
   "display_name": "Python 3",
   "language": "python",
   "name": "python3"
  },
  "language_info": {
   "codemirror_mode": {
    "name": "ipython",
    "version": 3
   },
   "file_extension": ".py",
   "mimetype": "text/x-python",
   "name": "python",
   "nbconvert_exporter": "python",
   "pygments_lexer": "ipython3",
   "version": "3.8.5"
  }
 },
 "nbformat": 4,
 "nbformat_minor": 4
}
