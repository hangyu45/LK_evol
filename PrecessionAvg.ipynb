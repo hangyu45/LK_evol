{
 "cells": [
  {
   "cell_type": "code",
   "execution_count": 2,
   "metadata": {
    "Collapsed": "false"
   },
   "outputs": [],
   "source": [
    "# std packages\n",
    "%matplotlib inline\n",
    "import numpy as np\n",
    "import scipy.interpolate as interp\n",
    "import scipy.signal as sig\n",
    "import scipy.optimize as opt\n",
    "import scipy.integrate as integ\n",
    "import scipy.linalg as sla\n",
    "import matplotlib.pyplot as plt\n",
    "from matplotlib import gridspec\n",
    "from matplotlib import rc\n",
    "import h5py as h5\n",
    "import os\n",
    "\n",
    "plt.rc('figure', figsize=(9, 7))\n",
    "plt.rcParams.update({'text.usetex': False,\n",
    "                     'font.family': 'serif',\n",
    "                     'font.serif': ['Georgia'],\n",
    "                     'mathtext.fontset': 'cm',\n",
    "                     'lines.linewidth': 2.5,\n",
    "                     'font.size': 20,\n",
    "                     'xtick.labelsize': 'large',\n",
    "                     'ytick.labelsize': 'large',\n",
    "                     'xtick.direction': 'in',\n",
    "                     'ytick.direction': 'in',\n",
    "                     'axes.labelsize': 'large',\n",
    "                     'axes.titlesize': 'large',\n",
    "                     'axes.grid': True,\n",
    "                     'grid.alpha': 0.5,\n",
    "                     'lines.markersize': 12,\n",
    "                     'legend.borderpad': 0.2,\n",
    "                     'legend.fancybox': True,\n",
    "                     'legend.fontsize': 17,\n",
    "                     'legend.framealpha': 0.7,\n",
    "                     'legend.handletextpad': 0.5,\n",
    "                     'legend.labelspacing': 0.2,\n",
    "                     'legend.loc': 'best',\n",
    "                     'savefig.bbox': 'tight',\n",
    "                     'savefig.pad_inches': 0.05,\n",
    "                     'savefig.dpi': 80,\n",
    "                     'pdf.compression': 9})\n",
    "from myConstants import *"
   ]
  },
  {
   "cell_type": "code",
   "execution_count": 3,
   "metadata": {
    "Collapsed": "false"
   },
   "outputs": [],
   "source": [
    "def evol_log_aL(t_nat, logy_vect, par_aL):\n",
    "    loga, logL = logy_vect\n",
    "    M1, M2, t_unit= par_aL\n",
    "    Mt=M1+M2\n",
    "    mu=M1*M2/Mt\n",
    "    \n",
    "    a_orb = np.exp(loga)\n",
    "    L_orb = np.exp(logL)\n",
    "    eff = L_orb/(mu*np.sqrt(G*Mt*a_orb))\n",
    "    e_orb = np.sqrt(1.-eff**2.)\n",
    "    \n",
    "    G3_c5 = G**3./c**5.\n",
    "    e2 = e_orb**2.\n",
    "    e4 = e_orb**4.\n",
    "    \n",
    "    da = - (64./5.*G3_c5) * (mu*(M1+M2)**2./(a_orb**3.))\\\n",
    "          * (1. + 73./24.*e2 + 37./96.*e4)/(eff**7.)    \n",
    "    dL = - (32./5.*G3_c5*np.sqrt(G)) * mu**2.*(M1+M2)**2.5 / (a_orb**3.5) \\\n",
    "          * (1.+0.875*e2)/(eff**4.)\n",
    "    \n",
    "    dlogy_vect = np.array([da/a_orb, dL/L_orb]) * t_unit\n",
    "    return dlogy_vect"
   ]
  },
  {
   "cell_type": "code",
   "execution_count": 15,
   "metadata": {
    "Collapsed": "false"
   },
   "outputs": [],
   "source": [
    "def get_inst_t_gw_from_a_orb(M1, M2, a_orb, e):\n",
    "    Mt=M1+M2\n",
    "    mu=M1*M2/(M1+M2)\n",
    "    inv_t_gw = (64./5.)*(G**3./c**5.)*mu*Mt**2./a_orb**4. \\\n",
    "                * (1.+73./24.*e**2+37./96.*e**4.)/(1.-e**2.)**(3.5)\n",
    "    t_gw = 1./inv_t_gw\n",
    "    return t_gw\n",
    "\n",
    "def get_angles(J, L, e, S, par):\n",
    "    M1, M2, S1, S2, chi_eff = par\n",
    "    \n",
    "    qq=M2/M1\n",
    "    Mt=M1+M2\n",
    "    \n",
    "    c_th1 = 0.5 * 1./((1.-qq)*S1) * \\\n",
    "        ((J**2. - L**2. - S**2.)/L  - 2.*qq*G*Mt**2./c*chi_eff/(1.+qq))\n",
    "    c_th2 = 0.5 * qq/((1.-qq)*S2) * \\\n",
    "        (-(J**2.-L**2.-S**2.)/L + 2.*G*Mt**2./c*chi_eff/(1.+qq))\n",
    "    c_th12 = (S**2. - S1**2. -S2**2.)/(2.*S1*S2)\n",
    "    \n",
    "    th1, th2, th12 = np.arccos(c_th1), np.arccos(c_th2), np.arccos(c_th12)\n",
    "    c_dphi = (c_th12 - c_th1*c_th2)/(np.sin(th1) * np.sin(th2))\n",
    "    dphi = np.arccos(c_dphi)\n",
    "    return th1, th2, th12, dphi\n",
    "\n",
    "def get_dSdt(J, L, e, S, par):\n",
    "    M1, M2, S1, S2, chi_eff = par\n",
    "    \n",
    "    qq=M2/M1\n",
    "    Mt=M1+M2\n",
    "    mu=M1*M2/Mt\n",
    "    eta=mu/Mt\n",
    "    eff = np.sqrt(1.-e**2.)\n",
    "    \n",
    "    th1, th2, th12, dphi = get_angles(J, L, e, S, par)\n",
    "    \n",
    "    dSdt = 1.5*eta**6. * eff**3. * (1-qq**2.)/qq * ((G*Mt**2./c)/L)**5.\\\n",
    "        * (c**3./G/Mt) * (S1*S2/S)\\\n",
    "        * (-1. + 0.5*qq/(1.-qq)**2.*(J**2.-L**2.-S**2.)/L**2. \\\n",
    "          - 2.*qq**2./(1.-qq**2.)**2.*G*Mt**2./c/L*chi_eff)\\\n",
    "        * np.sin(th1) * np.sin(th2) * np.sin(dphi)\n",
    "    return dSdt\n",
    "\n",
    "def find_Smp(J, L, e, par, nPt=1000):\n",
    "    M1, M2, S1, S2, chi_eff = par\n",
    "    qq=M2/M1\n",
    "    Mt=M1+M2\n",
    "    S_unit = G*Mt**2./c\n",
    "    \n",
    "    S_min = np.max([np.abs(J-L), np.abs(S1-S2)])\n",
    "    S_max = np.min([J+L, S1+S2])\n",
    "    S_vect = np.linspace(S_min, S_max, nPt)\n",
    "    \n",
    "    A1=np.sqrt(J**2. - (L-S_vect)**2.)\n",
    "    A2=np.sqrt((L+S_vect)**2. - J**2.)\n",
    "    A3=np.sqrt(S_vect**2. - (S1-S2)**2.)\n",
    "    A4=np.sqrt((S1+S2)**2. - S_vect**2.)\n",
    "    \n",
    "    chi_vect1 = ((J**2.-L**2.-S_vect**2.)\\\n",
    "                *((S_vect**2.*(1.+qq)**2.)\\\n",
    "                  -(S1**2.-S2**2.)*(1.-qq**2.))\\\n",
    "                 -(1.-qq**2.)*A1*A2*A3*A4)\\\n",
    "            /(4.*qq*S_unit*S_vect**2.*L)\n",
    "\n",
    "    chi_vect2 = ((J**2.-L**2.-S_vect**2.)\\\n",
    "                *((S_vect**2.*(1.+qq)**2.)\\\n",
    "                  -(S1**2.-S2**2.)*(1.-qq**2.))\\\n",
    "                 +(1.-qq**2.)*A1*A2*A3*A4)\\\n",
    "            /(4.*qq*S_unit*S_vect**2.*L)\n",
    "    \n",
    "    # note here is S vs chi-chi_eff!\n",
    "    chi_vs_S_func1 = interp.interp1d(S_vect, chi_vect1-chi_eff)\n",
    "    chi_vs_S_func2 = interp.interp1d(S_vect, chi_vect2-chi_eff)\n",
    "    \n",
    "    idx1 = np.argmin(chi_vect1)\n",
    "    idx2 = np.argmax(chi_vect2)\n",
    "    \n",
    "    if np.max(chi_vect1) < chi_eff:\n",
    "        Sm = opt.ridder(chi_vs_S_func2, S_min, S_vect[idx2])\n",
    "        Sp = opt.ridder(chi_vs_S_func2, S_vect[idx2], S_max)\n",
    "    elif np.min(chi_vect2) > chi_eff:\n",
    "        Sm = opt.ridder(chi_vs_S_func1, S_min, S_vect[idx1])\n",
    "        Sp = opt.ridder(chi_vs_S_func1, S_vect[idx1], S_max)\n",
    "    else:\n",
    "        try:\n",
    "            Sm = opt.ridder(chi_vs_S_func1, S_min, S_vect[idx1])\n",
    "        except ValueError:\n",
    "            Sm = opt.ridder(chi_vs_S_func1, S_vect[idx1], S_max)\n",
    "        try:\n",
    "            Sp = opt.ridder(chi_vs_S_func2, S_vect[idx2], S_max)\n",
    "        except ValueError:\n",
    "            Sp = opt.ridder(chi_vs_S_func2, S_min, S_vect[idx2])\n",
    "            \n",
    "    if Sm>Sp:\n",
    "        Sm, Sp = Sp, Sm\n",
    "    return Sm, Sp\n",
    "    \n",
    "def find_S_chi_contour(J, L, e, par, nPt=1000):\n",
    "    M1, M2, S1, S2, chi_eff = par\n",
    "    qq=M2/M1\n",
    "    Mt=M1+M2\n",
    "    S_unit = G*Mt**2./c\n",
    "    \n",
    "    S_min = np.max([np.abs(J-L), np.abs(S1-S2)])\n",
    "    S_max = np.min([J+L, S1+S2])\n",
    "    S_vect = np.linspace(S_min, S_max, nPt)\n",
    "    \n",
    "    A1=np.sqrt(J**2. - (L-S_vect)**2.)\n",
    "    A2=np.sqrt((L+S_vect)**2. - J**2.)\n",
    "    A3=np.sqrt(S_vect**2. - (S1-S2)**2.)\n",
    "    A4=np.sqrt((S1+S2)**2. - S_vect**2.)\n",
    "    \n",
    "    chi_vect1 = ((J**2.-L**2.-S_vect**2.)\\\n",
    "                *((S_vect**2.*(1.+qq)**2.)\\\n",
    "                  -(S1**2.-S2**2.)*(1.-qq**2.))\\\n",
    "                 -(1.-qq**2.)*A1*A2*A3*A4)\\\n",
    "            /(4.*qq*S_unit*S_vect**2.*L)\n",
    "\n",
    "    chi_vect2 = ((J**2.-L**2.-S_vect**2.)\\\n",
    "                *((S_vect**2.*(1.+qq)**2.)\\\n",
    "                  -(S1**2.-S2**2.)*(1.-qq**2.))\\\n",
    "                 +(1.-qq**2.)*A1*A2*A3*A4)\\\n",
    "            /(4.*qq*S_unit*S_vect**2.*L)\n",
    "    \n",
    "    return S_vect, chi_vect1, chi_vect2\n",
    "    \n",
    "def get_tau_pre(J, L, e, par, nPt=500):\n",
    "    M1, M2, S1, S2, chi_eff = par\n",
    "\n",
    "    Sm, Sp = find_Smp(J, L, e, par, nPt)\n",
    "    S_vect = np.linspace(Sm, Sp, nPt)\n",
    "    dSdt_vect = get_dSdt(J, L, e, S_vect, par)\n",
    "    \n",
    "    idx = np.isfinite(dSdt_vect) \n",
    "    \n",
    "    tau_pre = 2.*integ.trapz(1./np.abs(dSdt_vect[idx]), S_vect[idx])\n",
    "    return tau_pre    \n",
    "\n",
    "def evol_J_avg(L_nat, J_nat, e_vs_L_func, par, nPt=50):\n",
    "    M1, M2, S1, S2, chi_eff = par\n",
    "    \n",
    "    Mt=M1+M2\n",
    "    S_Mt = G*Mt**2./c\n",
    "    \n",
    "    L=L_nat * S_Mt\n",
    "    J=J_nat * S_Mt\n",
    "    e_orb = e_vs_L_func(L)\n",
    "    \n",
    "    Sm, Sp = find_Smp(J, L, e_orb, par, nPt=nPt)\n",
    "    S_vect = np.linspace(Sm, Sp, nPt)\n",
    "    dSdt_vect = np.abs(get_dSdt(J, L, e_orb, S_vect, par))\n",
    "    \n",
    "    c_th_L = (J**2.+L**2.-S_vect**2.)/(2*J*L)\n",
    "    tau = 2.*integ.trapz(S_Mt/dSdt_vect, S_vect/S_Mt)\n",
    "    dJdL = 2./tau * integ.trapz(S_Mt*c_th_L/dSdt_vect, S_vect/S_Mt)\n",
    "    return dJdL"
   ]
  },
  {
   "cell_type": "code",
   "execution_count": 5,
   "metadata": {
    "Collapsed": "false"
   },
   "outputs": [
    {
     "name": "stdout",
     "output_type": "stream",
     "text": [
      "0.8480451879924594 0.18055828261333307\n",
      "14647256\n"
     ]
    }
   ],
   "source": [
    "fig_dir = '/home/hang.yu/public_html/astro/LK_evol/test/'\n",
    "data_dir = 'data/'\n",
    "prefix = 'seg3_'\n",
    "\n",
    "fid=h5.File(data_dir + prefix + 'data.h5', 'r')\n",
    "M1, M2= fid.attrs['M1'], fid.attrs['M2']\n",
    "Mt = M1 + M2\n",
    "mu=M1*M2/(M1+M2)\n",
    "qq=M2/M1\n",
    "eta = mu/Mt\n",
    "\n",
    "chi1, chi2 = fid.attrs['chi1'], fid.attrs['chi2']\n",
    "\n",
    "t = fid['t'][()]\n",
    "t -= t[0]\n",
    "ai = fid['ai'][()]\n",
    "Li_x, Li_y, Li_z = fid['Li_x'][()], fid['Li_y'][()], fid['Li_z'][()]\n",
    "Li = np.sqrt(Li_x**2. + Li_y**2. + Li_z**2.)\n",
    "\n",
    "ei_x, ei_y, ei_z = fid['ei_x'][()], fid['ei_y'][()], fid['ei_z'][()]\n",
    "ei = np.sqrt(ei_x**2. + ei_y**2. + ei_z**2.)\n",
    "eff_i = np.sqrt(1.-ei**2.)\n",
    "\n",
    "S1_x, S1_y, S1_z = fid['S1_x'][()], fid['S1_y'][()], fid['S1_z'][()]\n",
    "S1 = np.sqrt(S1_x**2. + S1_y**2. + S1_z**2.)\n",
    "S1 = np.median(S1)\n",
    "\n",
    "S2_x, S2_y, S2_z = fid['S2_x'][()], fid['S2_y'][()], fid['S2_z'][()]\n",
    "S2 = np.sqrt(S2_x**2. + S2_y**2. + S2_z**2.)\n",
    "S2 = np.median(S2)\n",
    "fid.close()\n",
    "\n",
    "print(ei[0], ei[-1])\n",
    "\n",
    "print(len(t))\n",
    "\n",
    "# idx = (ei>0.897) & (ei<0.953)\n",
    "# t = t[idx]\n",
    "# t-=t[0]\n",
    "# ai = ai[idx]\n",
    "# Li_x, Li_y, Li_z = Li_x[idx], Li_y[idx], Li_z[idx]\n",
    "# Li = Li[idx]\n",
    "\n",
    "# ei_x, ei_y, ei_z = ei_x[idx], ei_y[idx], ei_z[idx]\n",
    "# ei = ei[idx]\n",
    "# eff_i = eff_i[idx]\n",
    "\n",
    "# S1_x, S1_y, S1_z = S1_x[idx], S1_y[idx], S1_z[idx]\n",
    "# S1 = S1[idx]\n",
    "\n",
    "# S2_x, S2_y, S2_z = S2_x[idx], S2_y[idx], S2_z[idx]\n",
    "# S2 = S2[idx]"
   ]
  },
  {
   "cell_type": "code",
   "execution_count": 6,
   "metadata": {
    "Collapsed": "false"
   },
   "outputs": [
    {
     "name": "stdout",
     "output_type": "stream",
     "text": [
      "0.8986817062977922\n",
      "5.601603488508582e-05\n",
      "83283.03792735717\n"
     ]
    }
   ],
   "source": [
    "inv_t_gw = (64./5.)*(G**3./c**5.)*mu*Mt**2./ai[0]**4. \\\n",
    "            * (1.+73./24.*ei[0]**2+37./96.*ei[0]**4.)/(1.-ei[0]**2.)**(3.5)\n",
    "t_gw = 1./inv_t_gw\n",
    "print((t[-1]-t[0])/t_gw)\n",
    "\n",
    "omega_orb = np.sqrt(G*Mt/ai[0]**3.)\n",
    "omega_pre = omega_orb * G*Mt/(c**2.*ai[0]*eff_i[0]**2.)\n",
    "print(omega_orb/np.pi)\n",
    "t_pre = 1./omega_pre\n",
    "print((t[-1]-t[0])/t_pre)\n",
    "\n",
    "r_Mt = G*Mt/c**2.\n",
    "St_unit = G*Mt**2./c "
   ]
  },
  {
   "cell_type": "code",
   "execution_count": 19,
   "metadata": {
    "Collapsed": "false"
   },
   "outputs": [
    {
     "name": "stdout",
     "output_type": "stream",
     "text": [
      "0.03999999999999939 3.5674774335679764 36.1740809317814 0.8480451879924594\n",
      "0.003999999999999989 8104.640640005686\n"
     ]
    }
   ],
   "source": [
    "a_init=ai[0]\n",
    "L_init=Li[0]\n",
    "e_init=ei[0]\n",
    "a_ref = (L_init/St_unit/eta)**2.*(G*Mt/c**2.)\n",
    "a_end=ai[-1]\n",
    "print(a_init/AU, a_init/a_ref, L_init/St_unit, e_init)\n",
    "print(a_end/AU, a_end/(G*Mt/c**2.))\n",
    " \n",
    "t_unit=t_gw\n",
    "\n",
    "par_aL = np.array([M1, M2, t_unit])\n",
    "logy_init = np.array([np.log(a_init), np.log(L_init)])\n",
    "\n",
    "def terminator(t_nat, logy_vect, par_aL):\n",
    "    loga, logL = logy_vect\n",
    "    M1, M2, t_unit = par_aL\n",
    "\n",
    "    a_orb = np.exp(loga)\n",
    "    resi = (a_orb - ai[-1])/r_Mt\n",
    "    return resi\n",
    "\n",
    "term_func=lambda t_nat_, logy_vect_:terminator(t_nat_, logy_vect_, par_aL)\n",
    "term_func.direction = -1\n",
    "term_func.terminal = True\n",
    "\n",
    "int_func=lambda t_nat_, logy_vect_:\\\n",
    "    evol_log_aL(t_nat_, logy_vect_, par_aL)\n",
    "    \n",
    "sol=integ.solve_ivp(int_func, \\\n",
    "        t_span=(0, 10), y0=logy_init, rtol=3e-14, atol=1e-14, \\\n",
    "        events=term_func)\n",
    "\n",
    "t_scal = sol.t*t_unit\n",
    "a_scal = np.exp(sol.y[0, :])\n",
    "L_scal = np.exp(sol.y[1, :])\n",
    "eff_scal = L_scal/(mu*np.sqrt(G*(M1+M2)*a_scal))\n",
    "e_scal = np.sqrt(1. - eff_scal**2.)\n",
    "\n",
    "f_gw_scal = np.sqrt(G*Mt/a_scal**3.)/np.pi\n",
    "\n",
    "loge_vs_logL_tck = interp.splrep(np.log(L_scal[::-1]), np.log(e_scal[::-1]))\n",
    "loge_vs_logf_tck = interp.splrep(np.log(f_gw_scal), np.log(e_scal))\n",
    "logL_vs_loga_tck = interp.splrep(np.log(a_scal[::-1]), np.log(L_scal[::-1]))\n",
    "e_vs_L_func=lambda LL: np.exp(interp.splev(np.log(LL), loge_vs_logL_tck))\n",
    "e_vs_f_func=lambda ff: np.exp(interp.splev(np.log(ff), loge_vs_logf_tck))\n",
    "L_vs_a_func=lambda aa: np.exp(interp.splev(np.log(aa), logL_vs_loga_tck))"
   ]
  },
  {
   "cell_type": "code",
   "execution_count": 9,
   "metadata": {
    "Collapsed": "false"
   },
   "outputs": [],
   "source": [
    "Jx = Li_x + S1_x + S2_x\n",
    "Jy = Li_y + S1_y + S2_y\n",
    "Jz = Li_z + S1_z + S2_z\n",
    "J = np.sqrt(Jx**2. + Jy**2. + Jz**2.)\n",
    "\n",
    "St_x = S1_x + S2_x\n",
    "St_y = S1_y + S2_y \n",
    "St_z = S1_z + S2_z\n",
    "St = np.sqrt(St_x**2. + St_y**2. + St_z**2.)\n",
    "St_unit = G*Mt**2./c\n",
    "\n",
    "uS1_d_uLi = (S1_x*Li_x + S1_y*Li_y + S1_z*Li_z)/(S1 * Li)\n",
    "uS2_d_uLi = (S2_x*Li_x + S2_y*Li_y + S2_z*Li_z)/(S2 * Li)\n",
    "uS1_d_uS2 = (S1_x*S2_x + S1_y*S2_y + S1_z*S2_z)/(S1*S2)\n",
    "\n",
    "chi_eff = (M1*uS1_d_uLi*chi1 + M2*uS2_d_uLi*chi2)/(M1+M2)\n",
    "chi_eff = np.median(chi_eff)"
   ]
  },
  {
   "cell_type": "code",
   "execution_count": 10,
   "metadata": {
    "Collapsed": "false"
   },
   "outputs": [],
   "source": [
    "# theta1_SL = np.real(np.arccos(\\\n",
    "#         (S1_x*Li_x + S1_y*Li_y + S1_z*Li_z)/(S1*Li)+0j\n",
    "#                       ))\n",
    "# theta2_SL = np.real(np.arccos(\\\n",
    "#         (S2_x*Li_x + S2_y*Li_y + S2_z*Li_z)/(S2*Li)+0j\n",
    "#                       ))\n",
    "# theta_SS = np.real(np.arccos(\\\n",
    "#         (S1_x*S2_x + S1_y*S2_y + S1_z*S2_z)/(S1*S2)+0j\n",
    "#                     ))\n",
    "\n",
    "# omega_orb = np.sqrt(G*(M1+M2)/ai**3.)\n",
    "\n",
    "# fig=plt.figure(figsize=(9, 14))\n",
    "# ax=fig.add_subplot(411)\n",
    "# ax.semilogy((t-t[-1])/P_yr/1.e3, ai/1.e5, alpha=0.8, color='tab:grey')\n",
    "# ax.set_ylabel(r'$a_{\\rm in}$ [km]')\n",
    "# ax.set_xticklabels([])\n",
    "# ax=fig.add_subplot(412)\n",
    "# ax.semilogy((t-t[-1])/P_yr, ei, alpha=0.8, color='tab:grey')\n",
    "# ax.set_ylabel(r'$e$')\n",
    "# ax.set_xticklabels([])\n",
    "# ax=fig.add_subplot(413)\n",
    "# ax.semilogy((t-t[-1])/P_yr/1.e3, omega_orb/np.pi, alpha=0.8, color='tab:grey')\n",
    "# ax.set_ylabel(r'$f_{\\rm gw}$ [Hz]')\n",
    "# ax.set_xticklabels([])\n",
    "# ax=fig.add_subplot(414)\n",
    "# ax.plot((t-t[-1])/P_yr/1.e3, theta1_SL*180./np.pi, alpha=0.8, label=r'$S_1$', color='tab:grey')\n",
    "# ax.plot((t-t[-1])/P_yr/1.e3, theta2_SL*180./np.pi, alpha=0.8, label=r'$S_2$', color='tab:olive')\n",
    "# ax.axhline(90., color='tab:red', ls=':', alpha=0.5)\n",
    "# ax.set_ylabel(r'$\\theta_{SL}$ [deg]')\n",
    "# ax.legend(loc='upper left')\n",
    "# ax.set_xlabel(r'Time [kyr]')\n",
    "\n",
    "# # ax=fig.add_subplot(414)\n",
    "# # ax.plot(t-t[-1], theta_SS*180./np.pi, alpha=0.8, color='tab:grey')\n",
    "# # ax.set_ylabel(r'$\\theta_{SS}$ [deg]')\n",
    "# # ax.set_xlabel(r'Time')\n",
    "\n",
    "# plt.subplots_adjust(hspace=0)\n",
    "# # plt.savefig(fig_dir+prefix+'evol.pdf')"
   ]
  },
  {
   "cell_type": "code",
   "execution_count": 11,
   "metadata": {
    "Collapsed": "false"
   },
   "outputs": [],
   "source": [
    "# chi_eff = (M1*uS1_d_uLi*chi1 + M2*uS2_d_uLi*chi2)/(M1+M2)\n",
    "# print(np.median(chi_eff))\n",
    "# fig=plt.figure()\n",
    "# ax=fig.add_subplot(111)\n",
    "# ax.plot(ei, chi_eff, label=r'$\\chi_{\\rm eff}$')\n",
    "# ax.axhline(chi_eff[-1] - chi_eff[0], \\\n",
    "#            ls='-', color='tab:orange', \\\n",
    "#            label=r'$\\chi_{\\rm eff}^{\\rm(fin)} - \\chi_{\\rm eff}^{\\rm (init)}$')\n",
    "# ax.set_ylim([-0.05, 0.05])\n",
    "# # ax.set_xlim([0.877, 0.983])\n",
    "# ax.legend(loc='upper right')\n",
    "# ax.set_xlabel(r'Eccentricity $e$')\n",
    "# ax.set_ylabel(r'$\\chi_{\\rm eff}$')\n",
    "# # fig.savefig(fig_dir + 'chi_eff_vs_e.pdf')\n",
    "\n",
    "# chi_eff=np.median(chi_eff)"
   ]
  },
  {
   "cell_type": "code",
   "execution_count": 12,
   "metadata": {
    "Collapsed": "false"
   },
   "outputs": [],
   "source": [
    "# c_th1 = 0.5 * 1./((1.-qq)*S1) * \\\n",
    "#         ((J**2. - Li**2. - St**2.)/Li  - 2.*qq*G*Mt**2./c*chi_eff/(1.+qq))\n",
    "# c_th2 = 0.5 * qq/((1.-qq)*S2) * \\\n",
    "#         (-(J**2.-Li**2.-St**2.)/Li + 2.*G*Mt**2./c*chi_eff/(1.+qq))\n",
    "# c_th12 = (St**2. - S1**2. -S2**2.)/(2.*S1*S2)\n",
    "# c_dphi = (c_th12 - c_th1*c_th2)/(np.sin(np.arccos(c_th1)) * np.sin(np.arccos(c_th2)))\n",
    "\n",
    "\n",
    "# par = np.array([M1, M2, S1, S2, chi_eff])\n",
    "# th1, th2, th12, dphi = get_angles(J, Li, ei, St, par)\n",
    "# c_th1, c_th2, c_th12, c_dphi \\\n",
    "#     = np.cos(th1), np.cos(th2), np.cos(th12), np.cos(dphi)\n",
    "\n",
    "# for i in range(len(ei)):\n",
    "#     JLSe_vect = np.array([J[i], Li[i], St[i], ei[i]]) \n",
    "#     th1, th2, th12, dphi = get_angles(JLSe_vect, par)\n",
    "#     c_th1[i], c_th2[i], c_th12[i], c_dphi[i] \\\n",
    "#         = np.cos(th1), np.cos(th2), np.cos(th12), np.cos(dphi)\n",
    "\n",
    "\n",
    "# fig=plt.figure(figsize=(9, 14))\n",
    "# ax=fig.add_subplot(311)\n",
    "# ax.plot(ei, c_th1, label=r'Kesden+15, Eq. (7)', alpha=0.3)\n",
    "# ax.plot(ei, c_th1 - uS1_d_uLi, label=r'Difference')\n",
    "# ax.legend(loc='center right')\n",
    "# ax.set_ylabel(r'$\\cos\\theta_1$')\n",
    "# # ax.set_xlim([0.877, 0.983])\n",
    "# ax.set_xticklabels([])\n",
    "\n",
    "# ax=fig.add_subplot(312)\n",
    "# ax.plot(ei, c_th2, alpha=0.3)\n",
    "# ax.plot(ei, c_th2 - uS2_d_uLi)\n",
    "# ax.set_ylabel(r'$\\cos\\theta_2$')\n",
    "# # ax.set_xlim([0.877, 0.983])\n",
    "# ax.set_xticklabels([])\n",
    "\n",
    "# ax=fig.add_subplot(313)\n",
    "# ax.plot(ei, c_th12, alpha=0.3)\n",
    "# ax.plot(ei, c_th12 - uS1_d_uS2)\n",
    "# ax.set_ylabel(r'$\\cos\\theta_{12}$')\n",
    "# ax.set_xlabel(r'Eccentricity $e$')\n",
    "# # ax.set_xlim([0.877, 0.983])\n",
    "\n",
    "# fig.subplots_adjust(hspace=0.05)\n",
    "# # fig.savefig(fig_dir + 'ang_vs_e.pdf')"
   ]
  },
  {
   "cell_type": "code",
   "execution_count": 13,
   "metadata": {
    "Collapsed": "false"
   },
   "outputs": [],
   "source": [
    "# dSt_dt_num = np.gradient(St)/np.gradient(t) / (Mt * c)\n",
    "# dSt_dt = get_dSdt(J, Li, ei, St, par) / (Mt * c)\n",
    "\n",
    "# dSt_dt_ref = - 1.5 * (1.-qq**2.)/qq * eta**6.*eff_i**3. \\\n",
    "#         * S1*S2/St * (G*Mt**2./c/Li)**5. * (c**3./G/Mt) \\\n",
    "#         * (1.-eta*G*Mt**2./c/Li*chi_eff)\\\n",
    "#         * np.sin(th1) * np.sin(th2) * np.sin(dphi)\\\n",
    "#         /(Mt * c)\n",
    "\n",
    "# # print(S1*S2/St)\n",
    "# fig=plt.figure()\n",
    "# ax=fig.add_subplot(111)\n",
    "# # ax.plot(t, dSt_dt)\n",
    "# ax.plot(t[:10000], np.abs(dSt_dt_num/dSt_dt)[:10000], alpha=0.3, ls='', marker='.')\n",
    "# # ax.plot(t[:10000], np.abs(dSt_dt_num/dSt_dt_ref)[:10000], alpha=0.3, ls='', marker='.')\n",
    "# ax.set_ylim([0.5, 1.5])"
   ]
  },
  {
   "cell_type": "code",
   "execution_count": null,
   "metadata": {
    "Collapsed": "false"
   },
   "outputs": [],
   "source": [
    "# omega_pre_ref = omega_orb * G*Mt/(c**2.*ai[-1]*eff_i[-1]**2.)\n",
    "# tau_pre_ref = 2.*np.pi/omega_pre_ref\n",
    "# tau_pre = get_tau_pre(J[-1], Li[-1], ei[-1], par, nPt=500)\n",
    "# print(tau_pre/tau_pre_ref)"
   ]
  },
  {
   "cell_type": "code",
   "execution_count": 14,
   "metadata": {
    "Collapsed": "false"
   },
   "outputs": [],
   "source": [
    "dJdL_num=J/Li * np.gradient(np.log(J))/np.gradient(np.log(Li))\n",
    "\n",
    "par = np.array([M1, M2, S1, S2, chi_eff])\n",
    "\n",
    "nPt=50\n",
    "int_func=lambda L_nat_, J_nat_:\\\n",
    "    evol_J_avg(L_nat_, J_nat_, e_vs_L_func, par, nPt=nPt)\n",
    "    \n",
    "sol=integ.solve_ivp(int_func, \\\n",
    "        t_span=(L_scal[0]/St_unit, L_scal[-1]/St_unit), y0=np.array([J[0]/St_unit]), rtol=1e-12, atol=1e-12)\n",
    "\n",
    "LL = sol.t * St_unit\n",
    "JJ = sol.y[0, :] * St_unit\n",
    "dJdL = np.zeros(len(LL))\n",
    "for i in range(len(LL)):\n",
    "    dJdL[i] = evol_J_avg(LL[i]/St_unit, JJ[i]/St_unit, e_vs_L_func, par, nPt)\n",
    "    \n",
    "SSm, SSp=np.zeros([len(LL)]), np.zeros([len(LL)])\n",
    "dJdLm, dJdLp=np.zeros([len(LL)]), np.zeros([len(LL)])\n",
    "for i in range(len(LL)):\n",
    "    SSm[i], SSp[i] = find_Smp(JJ[i], LL[i], e_vs_L_func(LL[i]), par, nPt)\n",
    "    dJdLm[i] = (JJ[i]**2. + LL[i]**2. - SSm[i]**2.)/(2.*JJ[i]*LL[i])\n",
    "    dJdLp[i] = (JJ[i]**2. + LL[i]**2. - SSp[i]**2.)/(2.*JJ[i]*LL[i])\n",
    "\n",
    "ee = e_vs_L_func(LL)\n",
    "aa = LL**2./(G*mu**2.*Mt*(1.-ee**2.))"
   ]
  },
  {
   "cell_type": "code",
   "execution_count": 32,
   "metadata": {
    "Collapsed": "false"
   },
   "outputs": [
    {
     "name": "stdout",
     "output_type": "stream",
     "text": [
      "[0.29813328 0.78285311]\n"
     ]
    },
    {
     "data": {
      "image/png": "[encoded data removed]",
      "text/plain": [
       "<Figure size 648x504 with 2 Axes>"
      ]
     },
     "metadata": {
      "needs_background": "light"
     },
     "output_type": "display_data"
    }
   ],
   "source": [
    "fig_dir='/home/hang.yu/public_html/astro/LK_evol/precAvg/'\n",
    "if not os.path.exists(fig_dir):\n",
    "    os.makedirs(fig_dir)\n",
    "\n",
    "fig=plt.figure()\n",
    "ax=fig.add_subplot(111)\n",
    "ax.plot(ee, (-dJdL+1)*1.e5, label=r'$\\langle{{\\rm d}J}/{{\\rm d}L} \\rangle$')\n",
    "ax.plot(ei, (-dJdL_num+1)*1.e5, alpha=0.5, color='tab:grey', label=r'Numerical')\n",
    "ax.plot(ee, (-dJdLm+1)*1.e5, ls='--', color='tab:blue')\n",
    "ax.plot(ee, (-dJdLp+1)*1.e5, ls='--', color='tab:blue')\n",
    "ax.invert_xaxis()\n",
    "ax.set_ylabel(r'$1-\\left({{\\rm d}J}/{{\\rm d}L}\\right)$ [$\\times10^5$]')\n",
    "ax.set_xlabel(r'$e$')\n",
    "ax.legend(loc='upper left')\n",
    "\n",
    "\n",
    "top_ticks_ff=np.array([1.e-3, 1.e-4])\n",
    "top_ticks_ee = e_vs_f_func(top_ticks_ff)\n",
    "print(top_ticks_ee)\n",
    "\n",
    "ax=ax.twiny()\n",
    "ax.plot(ee, (-dJdL+1)*1.e5, ls='')\n",
    "ax.set_xticks(top_ticks_ee)\n",
    "ax.set_xticklabels([r'$10^{-3}$', '$10^{-4}$'])\n",
    "ax.invert_xaxis()\n",
    "ax.set_xlabel(r'$f_{\\rm gw}$ [Hz]')\n",
    "ax.grid(False)\n",
    "\n",
    "plt.savefig(fig_dir + 'dJdL_vs_e.pdf')"
   ]
  },
  {
   "cell_type": "code",
   "execution_count": 18,
   "metadata": {
    "Collapsed": "false"
   },
   "outputs": [
    {
     "data": {
      "text/plain": [
       "array([5.60160349e-05, 5.61286277e-05, 5.72593181e-05, 6.90377295e-05,\n",
       "       2.31962766e-04, 4.73608442e-04, 7.69905282e-04, 1.12812544e-03,\n",
       "       1.56428680e-03, 1.77138256e-03])"
      ]
     },
     "execution_count": 18,
     "metadata": {},
     "output_type": "execute_result"
    }
   ],
   "source": [
    "np.sqrt(G*Mt/aa**3.)/np.pi"
   ]
  },
  {
   "cell_type": "code",
   "execution_count": null,
   "metadata": {
    "Collapsed": "false"
   },
   "outputs": [],
   "source": []
  },
  {
   "cell_type": "code",
   "execution_count": 16,
   "metadata": {
    "Collapsed": "false"
   },
   "outputs": [
    {
     "name": "stderr",
     "output_type": "stream",
     "text": [
      "/cvmfs/ligo-containers.opensciencegrid.org/lscsoft/conda/latest/envs/ligo-py37/lib/python3.7/site-packages/ipykernel/__main__.py:23: RuntimeWarning: invalid value encountered in arccos\n"
     ]
    },
    {
     "name": "stdout",
     "output_type": "stream",
     "text": [
      "4.455654411297669\n"
     ]
    },
    {
     "data": {
      "image/png": "[encoded data removed]",
      "text/plain": [
       "<Figure size 648x504 with 1 Axes>"
      ]
     },
     "metadata": {
      "needs_background": "light"
     },
     "output_type": "display_data"
    }
   ],
   "source": [
    "M1, M2 = 85.*Ms, 65.*Ms\n",
    "Mt=M1+M2\n",
    "mu=M1*M2/Mt\n",
    "eta=mu/Mt\n",
    "\n",
    "S_Mt=G*Mt**2./c\n",
    "r_Mt=G*Mt/c**2.\n",
    "\n",
    "chi1, chi2 = 0.7, 0.7\n",
    "S1 = chi1 * G*M1**2./c\n",
    "S2 = chi2 * G*M2**2./c\n",
    "\n",
    "par = np.array([M1, M2, S1, S2, -0.008263364])\n",
    "\n",
    "LL = 0.6014858143454641 * S_Mt\n",
    "JJ = 0.6578821376739837 * S_Mt\n",
    "# JJ = np.linspace(JJ_min, JJ_max, nJ)\n",
    "\n",
    "nPt = 100\n",
    "S_vect, chi_vect1, chi_vect2=find_S_chi_contour(JJ, LL, 0, par, nPt=nPt)\n",
    "\n",
    "\n",
    "\n",
    "fig=plt.figure()\n",
    "ax=fig.add_subplot(111)\n",
    "\n",
    "ax.plot(S_vect/S_Mt, chi_vect1)\n",
    "ax.plot(S_vect/S_Mt, chi_vect2)\n",
    "ax.axhline(-0.008263364)    \n",
    "\n",
    "print(get_tau_pre(JJ, LL, 0., par, nPt=50))"
   ]
  },
  {
   "cell_type": "code",
   "execution_count": 12,
   "metadata": {
    "Collapsed": "false"
   },
   "outputs": [
    {
     "data": {
      "text/plain": [
       "[<matplotlib.lines.Line2D at 0x7f37412136a0>]"
      ]
     },
     "execution_count": 12,
     "metadata": {},
     "output_type": "execute_result"
    },
    {
     "data": {
      "image/png": "[encoded data removed]",
      "text/plain": [
       "<Figure size 648x504 with 1 Axes>"
      ]
     },
     "metadata": {
      "needs_background": "light"
     },
     "output_type": "display_data"
    }
   ],
   "source": [
    "par = np.array([M1, M2, S1, S2, 0])\n",
    "aa=np.logspace(np.log10(600*r_Mt), np.log10(12000*r_Mt), 1000)\n",
    "LL=mu*np.sqrt(G*Mt*aa)\n",
    "\n",
    "JJ1=np.sqrt(LL**2. + (S1+S2)**2.)\n",
    "JJ2=np.sqrt(LL**2. + (S1-S2)**2.)\n",
    "\n",
    "dSdt1 = get_dSdt(JJ1, LL, 0, S1+S2, par)\n",
    "dSdt2 = get_dSdt(JJ2, LL, 0, np.abs(S1-S2), par)\n",
    "\n",
    "tt_gw = get_inst_t_gw_from_a_orb(M1, M2, aa, 0)\n",
    "\n",
    "tt_pre1 = np.abs((S1+S2)/dSdt1)\n",
    "tt_pre2 = np.abs((S1-S2)/dSdt2)\n",
    "\n",
    "fig=plt.figure()\n",
    "ax=fig.add_subplot(111)\n",
    "ax.loglog(aa/r_Mt, tt_gw)\n",
    "ax.loglog(aa/r_Mt, tt_pre1)\n",
    "ax.loglog(aa/r_Mt, tt_pre2)"
   ]
  },
  {
   "cell_type": "code",
   "execution_count": 14,
   "metadata": {
    "Collapsed": "false"
   },
   "outputs": [
    {
     "data": {
      "text/plain": [
       "array([False, False,  True,  True])"
      ]
     },
     "execution_count": 14,
     "metadata": {},
     "output_type": "execute_result"
    }
   ],
   "source": [
    "np.isfinite(np.array([np.nan, np.nan, 1., 23]))"
   ]
  },
  {
   "cell_type": "code",
   "execution_count": null,
   "metadata": {
    "Collapsed": "false"
   },
   "outputs": [],
   "source": []
  }
 ],
 "metadata": {
  "kernelspec": {
   "display_name": "ligo-py37",
   "language": "python",
   "name": "ligo-py37"
  },
  "language_info": {
   "codemirror_mode": {
    "name": "ipython",
    "version": 3
   },
   "file_extension": ".py",
   "mimetype": "text/x-python",
   "name": "python",
   "nbconvert_exporter": "python",
   "pygments_lexer": "ipython3",
   "version": "3.7.3"
  }
 },
 "nbformat": 4,
 "nbformat_minor": 4
}
