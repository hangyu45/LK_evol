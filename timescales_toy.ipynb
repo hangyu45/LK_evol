{
 "cells": [
  {
   "cell_type": "code",
   "execution_count": 1,
   "metadata": {},
   "outputs": [],
   "source": [
    "# std packages\n",
    "%matplotlib inline\n",
    "import numpy as np\n",
    "import scipy.interpolate as interp\n",
    "import scipy.signal as sig\n",
    "import scipy.optimize as opt\n",
    "import scipy.integrate as integ\n",
    "import scipy.linalg as sla\n",
    "import matplotlib.pyplot as plt\n",
    "from matplotlib import gridspec\n",
    "from matplotlib import rc\n",
    "import h5py as h5\n",
    "import os\n",
    "\n",
    "plt.rc('figure', figsize=(9, 7))\n",
    "plt.rcParams.update({'text.usetex': False,\n",
    "                     'font.family': 'serif',\n",
    "                     'font.serif': ['Georgia'],\n",
    "                     'mathtext.fontset': 'cm',\n",
    "                     'lines.linewidth': 2.5,\n",
    "                     'font.size': 20,\n",
    "                     'xtick.labelsize': 'large',\n",
    "                     'ytick.labelsize': 'large',\n",
    "                     'xtick.direction': 'in',\n",
    "                     'ytick.direction': 'in',\n",
    "                     'axes.labelsize': 'large',\n",
    "                     'axes.titlesize': 'large',\n",
    "                     'axes.grid': True,\n",
    "                     'grid.alpha': 0.5,\n",
    "                     'lines.markersize': 12,\n",
    "                     'legend.borderpad': 0.2,\n",
    "                     'legend.fancybox': True,\n",
    "                     'legend.fontsize': 17,\n",
    "                     'legend.framealpha': 0.7,\n",
    "                     'legend.handletextpad': 0.5,\n",
    "                     'legend.labelspacing': 0.2,\n",
    "                     'legend.loc': 'best',\n",
    "                     'savefig.bbox': 'tight',\n",
    "                     'savefig.pad_inches': 0.05,\n",
    "                     'savefig.dpi': 80,\n",
    "                     'pdf.compression': 9})\n",
    "\n",
    "from myConstants import *\n",
    "import LKlib as LK"
   ]
  },
  {
   "cell_type": "code",
   "execution_count": null,
   "metadata": {},
   "outputs": [],
   "source": [
    "## timescales"
   ]
  },
  {
   "cell_type": "code",
   "execution_count": 25,
   "metadata": {},
   "outputs": [
    {
     "name": "stdout",
     "output_type": "stream",
     "text": [
      "40.87078774122546 40.87078774122546\n",
      "87.93993348230248 0.08793993348230249\n"
     ]
    }
   ],
   "source": [
    "Mt_Ms = 50\n",
    "qq = 0.8\n",
    "M1 = Mt_Ms / (1.+qq) * Ms\n",
    "M2 = M1 * qq\n",
    "Mt = M1 + M2 \n",
    "mu = M1 * M2 / Mt\n",
    "eta = mu/Mt\n",
    "\n",
    "chi1 = 0.7\n",
    "chi2 = 0.7\n",
    "chi_eff = 0\n",
    "\n",
    "S1 = chi1 * G*M1**2./c\n",
    "S2 = chi2 * G*M2**2./c\n",
    "\n",
    "par = np.array([M1, M2, S1, S2, chi_eff])\n",
    "\n",
    "r_Mt = G*Mt/c**2.\n",
    "t_Mt = r_Mt/c\n",
    "t_Mt_pi = t_Mt * np.pi\n",
    "\n",
    "S_Mt = G*Mt**2./c\n",
    "\n",
    "f_10Mt = np.sqrt(G*Mt/(10.*r_Mt)**3.)/np.pi\n",
    "print(f_10Mt, 10**(-3/2)/t_Mt_pi)\n",
    "\n",
    "f_6Mt = 6.**(-3./2.)/t_Mt_pi\n",
    "f_600Mt = 600.**(-3./2.)/t_Mt_pi\n",
    "print(f_6Mt, f_600Mt)"
   ]
  },
  {
   "cell_type": "code",
   "execution_count": 30,
   "metadata": {},
   "outputs": [
    {
     "name": "stdout",
     "output_type": "stream",
     "text": [
      "0.05997846835879244 0.2998923417939623\n",
      "15220.491536376041 20667.76078992969\n",
      "0.024113568576288023\n"
     ]
    }
   ],
   "source": [
    "kk = 300\n",
    "r_kk = kk * r_Mt\n",
    "f_kk = kk**(-3./2.)/t_Mt_pi\n",
    "L_kk = mu * np.sqrt(G*Mt*r_kk)\n",
    "\n",
    "S_char = np.sqrt(S1**2.+S2**2.)\n",
    "print(S_char/L_kk, S_char/L_kk/(1-qq))\n",
    "\n",
    "J_kk_char = np.sqrt(L_kk**2. + S_char**2.)\n",
    "\n",
    "tau_pre_char = LK.get_tau_pre_char(J_kk_char, L_kk, 0, par)\n",
    "tau_gw = LK.get_inst_t_gw_from_a_orb(M1, M2, r_kk, 0)\n",
    "\n",
    "print(tau_pre_char, LK.get_tau_pre(J_kk_char, L_kk, 0, par))\n",
    "print(tau_pre_char/tau_gw)"
   ]
  },
  {
   "cell_type": "code",
   "execution_count": 27,
   "metadata": {},
   "outputs": [
    {
     "name": "stdout",
     "output_type": "stream",
     "text": [
      "0.2077715091151816 1.0388575455759084\n",
      "30.512343353211406 34.02655289530019\n",
      "1.0023822222222243\n"
     ]
    }
   ],
   "source": [
    "kk = 25\n",
    "r_kk = kk * r_Mt\n",
    "f_kk = kk**(-3./2.)/t_Mt_pi\n",
    "L_kk = mu * np.sqrt(G*Mt*r_kk)\n",
    "\n",
    "S_char = np.sqrt(S1**2.+S2**2.)\n",
    "print(S_char/L_kk, S_char/L_kk/(1-qq))\n",
    "\n",
    "J_kk_char = np.sqrt(L_kk**2. + S_char**2.)\n",
    "\n",
    "tau_pre_char = LK.get_tau_pre_char(J_kk_char, L_kk, 0, par)\n",
    "tau_gw = LK.get_inst_t_gw_from_a_orb(M1, M2, r_kk, 0)\n",
    "\n",
    "print(tau_pre_char, LK.get_tau_pre(J_kk_char, L_kk, 0, par))\n",
    "print(tau_pre_char/tau_gw)"
   ]
  },
  {
   "cell_type": "code",
   "execution_count": null,
   "metadata": {},
   "outputs": [],
   "source": []
  },
  {
   "cell_type": "code",
   "execution_count": null,
   "metadata": {},
   "outputs": [],
   "source": []
  },
  {
   "cell_type": "code",
   "execution_count": null,
   "metadata": {},
   "outputs": [],
   "source": []
  },
  {
   "cell_type": "code",
   "execution_count": null,
   "metadata": {},
   "outputs": [],
   "source": []
  },
  {
   "cell_type": "code",
   "execution_count": null,
   "metadata": {},
   "outputs": [],
   "source": [
    "# test angles "
   ]
  },
  {
   "cell_type": "code",
   "execution_count": 21,
   "metadata": {},
   "outputs": [
    {
     "name": "stdout",
     "output_type": "stream",
     "text": [
      "-0.5000000000000004 2.094395102393196 [-1.57079633 -0.52359878 -1.57079633]\n"
     ]
    }
   ],
   "source": [
    "th = 240.*np.pi/180.\n",
    "v1 = np.array([np.sin(th), 0, np.cos(th)])\n",
    "v2 = np.array([0, 0, 1])\n",
    "\n",
    "c12 = LK.inner(v1, v2)\n",
    "s12 = np.abs(LK.cross(v1, v2))\n",
    "print(c12, np.arccos(c12), np.arctan2(c12, s12))"
   ]
  },
  {
   "cell_type": "code",
   "execution_count": 18,
   "metadata": {},
   "outputs": [
    {
     "data": {
      "text/plain": [
       "array([ 0., 60.,  0.])"
      ]
     },
     "execution_count": 18,
     "metadata": {},
     "output_type": "execute_result"
    }
   ],
   "source": [
    "np.arcsin(s12)*180./np.pi"
   ]
  },
  {
   "cell_type": "code",
   "execution_count": 22,
   "metadata": {},
   "outputs": [],
   "source": [
    "np.arctan2??"
   ]
  },
  {
   "cell_type": "code",
   "execution_count": 24,
   "metadata": {},
   "outputs": [
    {
     "data": {
      "text/plain": [
       "array([0.       , 0.8660254, 0.       ])"
      ]
     },
     "execution_count": 24,
     "metadata": {},
     "output_type": "execute_result"
    }
   ],
   "source": []
  },
  {
   "cell_type": "code",
   "execution_count": null,
   "metadata": {},
   "outputs": [],
   "source": []
  }
 ],
 "metadata": {
  "kernelspec": {
   "display_name": "Python 3",
   "language": "python",
   "name": "python3"
  },
  "language_info": {
   "codemirror_mode": {
    "name": "ipython",
    "version": 3
   },
   "file_extension": ".py",
   "mimetype": "text/x-python",
   "name": "python",
   "nbconvert_exporter": "python",
   "pygments_lexer": "ipython3",
   "version": "3.8.5"
  }
 },
 "nbformat": 4,
 "nbformat_minor": 4
}
