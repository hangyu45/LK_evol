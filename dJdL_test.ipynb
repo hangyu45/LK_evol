{
 "cells": [
  {
   "cell_type": "code",
   "execution_count": 2,
   "metadata": {
    "Collapsed": "false"
   },
   "outputs": [],
   "source": [
    "# std packages\n",
    "%matplotlib inline\n",
    "import numpy as np\n",
    "import scipy.interpolate as interp\n",
    "import scipy.signal as sig\n",
    "import scipy.optimize as opt\n",
    "import scipy.integrate as integ\n",
    "import scipy.linalg as sla\n",
    "import matplotlib.pyplot as plt\n",
    "from matplotlib import gridspec\n",
    "from matplotlib import rc\n",
    "import h5py as h5\n",
    "\n",
    "plt.rc('figure', figsize=(9, 7))\n",
    "plt.rcParams.update({'text.usetex': False,\n",
    "                     'font.family': 'serif',\n",
    "                     'font.serif': ['Georgia'],\n",
    "                     'mathtext.fontset': 'cm',\n",
    "                     'lines.linewidth': 2.5,\n",
    "                     'font.size': 20,\n",
    "                     'xtick.labelsize': 'large',\n",
    "                     'ytick.labelsize': 'large',\n",
    "                     'xtick.direction': 'in',\n",
    "                     'ytick.direction': 'in',\n",
    "                     'axes.labelsize': 'large',\n",
    "                     'axes.titlesize': 'large',\n",
    "                     'axes.grid': False,\n",
    "                     'grid.alpha': 0.5,\n",
    "                     'lines.markersize': 12,\n",
    "                     'legend.borderpad': 0.2,\n",
    "                     'legend.fancybox': True,\n",
    "                     'legend.fontsize': 17,\n",
    "                     'legend.framealpha': 0.7,\n",
    "                     'legend.handletextpad': 0.5,\n",
    "                     'legend.labelspacing': 0.2,\n",
    "                     'legend.loc': 'best',\n",
    "                     'savefig.bbox': 'tight',\n",
    "                     'savefig.pad_inches': 0.05,\n",
    "                     'savefig.dpi': 80,\n",
    "                     'pdf.compression': 9})\n",
    "\n",
    "from myConstants import *"
   ]
  },
  {
   "cell_type": "code",
   "execution_count": 3,
   "metadata": {
    "Collapsed": "false"
   },
   "outputs": [],
   "source": [
    "def get_inst_t_gw_from_a_orb(M1, M2, a_orb, e):\n",
    "    Mt=M1+M2\n",
    "    mu=M1*M2/(M1+M2)\n",
    "    \n",
    "    G3muMt2_c5a3 = (G*mu/c**2./a_orb) * (G*Mt/c**2./a_orb)**2. * c\n",
    "    \n",
    "    inv_t_gw = (64./5.)*(G3muMt2_c5a3/a_orb) \\\n",
    "                * (1.+73./24.*e**2+37./96.*e**4.)/(1.-e**2.)**(3.5)\n",
    "    t_gw = 1./inv_t_gw\n",
    "    return t_gw\n",
    "\n",
    "def evol_log_aL(t_nat, logy_vect, par_aL):\n",
    "    loga, logL = logy_vect\n",
    "    M1, M2, t_unit= par_aL\n",
    "    Mt=M1+M2\n",
    "    mu=M1*M2/Mt\n",
    "    \n",
    "    a_orb = np.exp(loga)\n",
    "    L_orb = np.exp(logL)\n",
    "    eff = L_orb/(mu*np.sqrt(G*Mt*a_orb))\n",
    "    e_orb = np.sqrt(1.-eff**2.)\n",
    "    \n",
    "    G3_c5 = G**3./c**5.\n",
    "    e2 = e_orb**2.\n",
    "    e4 = e_orb**4.\n",
    "    \n",
    "    da = - (64./5.*G3_c5) * (mu*(M1+M2)**2./(a_orb**3.))\\\n",
    "          * (1. + 73./24.*e2 + 37./96.*e4)/(eff**7.)    \n",
    "    dL = - (32./5.*G3_c5*np.sqrt(G)) * mu**2.*(M1+M2)**2.5 / (a_orb**3.5) \\\n",
    "          * (1.+0.875*e2)/(eff**4.)\n",
    "    \n",
    "    dlogy_vect = np.array([da/a_orb, dL/L_orb]) * t_unit\n",
    "    return dlogy_vect\n",
    "\n",
    "def evol_logL_vs_loga(loga_Mt, logL_Mt, par_aL):\n",
    "    M1, M2= par_aL\n",
    "    Mt=M1+M2\n",
    "    mu=M1*M2/Mt\n",
    "    \n",
    "    r_Mt = G*Mt/c**2.\n",
    "    S_Mt = G*Mt**2./c\n",
    "    \n",
    "    a_orb = np.exp(loga_Mt)*r_Mt\n",
    "    L_orb = np.exp(logL_Mt)*S_Mt\n",
    "    eff = L_orb/(mu*np.sqrt(G*Mt*a_orb))\n",
    "    e_orb = np.sqrt(1.-eff**2.)\n",
    "    \n",
    "    G3muMt2_c5a3 = (G*mu/c**2./a_orb) * (G*Mt/c**2./a_orb)**2. * c #G**3.*mu*Mt**2./c**5./a_orb**3.\n",
    "    e2 = e_orb**2.\n",
    "    e4 = e_orb**4.\n",
    "    \n",
    "    da = - (64./5.) * (G3muMt2_c5a3)\\\n",
    "          * (1. + 73./24.*e2 + 37./96.*e4)/(eff**7.)    \n",
    "    dL = - (32./5.*G3muMt2_c5a3*np.sqrt(G)) * mu *np.sqrt(M1+M2) / np.sqrt(a_orb) \\\n",
    "          * (1.+0.875*e2)/(eff**4.)\n",
    "    \n",
    "    dLda = dL/da\n",
    "    dlogL_dloga = a_orb/L_orb * dL/da\n",
    "    return dlogL_dloga\n",
    "\n",
    "def get_angles(J, L, e, S, par):\n",
    "    M1, M2, S1, S2, chi_eff = par\n",
    "    \n",
    "    qq=M2/M1\n",
    "    Mt=M1+M2\n",
    "    \n",
    "    c_th1 = 0.5 * 1./((1.-qq)*S1) * \\\n",
    "        ((J**2. - L**2. - S**2.)/L  - 2.*qq*G*Mt**2./c*chi_eff/(1.+qq))\n",
    "    c_th2 = 0.5 * qq/((1.-qq)*S2) * \\\n",
    "        (-(J**2.-L**2.-S**2.)/L + 2.*G*Mt**2./c*chi_eff/(1.+qq))\n",
    "    c_th12 = (S**2. - S1**2. -S2**2.)/(2.*S1*S2)\n",
    "    \n",
    "    th1, th2, th12 = np.arccos(c_th1), np.arccos(c_th2), np.arccos(c_th12)\n",
    "    c_dphi = (c_th12 - c_th1*c_th2)/(np.sin(th1) * np.sin(th2))\n",
    "    dphi = np.arccos(c_dphi)\n",
    "    return th1, th2, th12, dphi\n",
    "\n",
    "def get_dSdt(J, L, e, S, par):\n",
    "    M1, M2, S1, S2, chi_eff = par\n",
    "    \n",
    "    qq=M2/M1\n",
    "    Mt=M1+M2\n",
    "    mu=M1*M2/Mt\n",
    "    eta=mu/Mt\n",
    "    eff = np.sqrt(1.-e**2.)\n",
    "    \n",
    "    th1, th2, th12, dphi = get_angles(J, L, e, S, par)\n",
    "    \n",
    "    dSdt = 1.5*eta**6. * eff**3. * (1-qq**2.)/qq * ((G*Mt**2./c)/L)**5.\\\n",
    "        * (c**3./G/Mt) * (S1*S2/S)\\\n",
    "        * (-1. + 0.5*qq/(1.-qq)**2.*(J**2.-L**2.-S**2.)/L**2. \\\n",
    "          - 2.*qq**2./(1.-qq**2.)**2.*G*Mt**2./c/L*chi_eff)\\\n",
    "        * np.sin(th1) * np.sin(th2) * np.sin(dphi)\n",
    "    return dSdt\n",
    "\n",
    "def find_Smp(J, L, e, par, nPt=8000):\n",
    "    M1, M2, S1, S2, chi_eff = par\n",
    "    qq=M2/M1\n",
    "    Mt=M1+M2\n",
    "    S_unit = G*Mt**2./c\n",
    "    \n",
    "    S_min = np.max([np.abs(J-L), np.abs(S1-S2)])\n",
    "    S_max = np.min([J+L, S1+S2])\n",
    "    S_vect = np.linspace(S_min, S_max, nPt)\n",
    "    \n",
    "    A1=np.sqrt(J**2. - (L-S_vect)**2.)\n",
    "    A2=np.sqrt((L+S_vect)**2. - J**2.)\n",
    "    A3=np.sqrt(S_vect**2. - (S1-S2)**2.)\n",
    "    A4=np.sqrt((S1+S2)**2. - S_vect**2.)\n",
    "    \n",
    "    chi_vect1 = ((J**2.-L**2.-S_vect**2.)\\\n",
    "                *((S_vect**2.*(1.+qq)**2.)\\\n",
    "                  -(S1**2.-S2**2.)*(1.-qq**2.))\\\n",
    "                 -(1.-qq**2.)*A1*A2*A3*A4)\\\n",
    "            /(4.*qq*S_unit*S_vect**2.*L)\n",
    "\n",
    "    chi_vect2 = ((J**2.-L**2.-S_vect**2.)\\\n",
    "                *((S_vect**2.*(1.+qq)**2.)\\\n",
    "                  -(S1**2.-S2**2.)*(1.-qq**2.))\\\n",
    "                 +(1.-qq**2.)*A1*A2*A3*A4)\\\n",
    "            /(4.*qq*S_unit*S_vect**2.*L)\n",
    "    \n",
    "    # note here is S vs chi-chi_eff!\n",
    "    chi_vs_S_func1 = interp.interp1d(S_vect, chi_vect1-chi_eff)\n",
    "    chi_vs_S_func2 = interp.interp1d(S_vect, chi_vect2-chi_eff)\n",
    "    \n",
    "    idx1 = np.argmin(chi_vect1)\n",
    "    idx2 = np.argmax(chi_vect2)\n",
    "    \n",
    "    if np.max(chi_vect1) < chi_eff:\n",
    "        Sm = opt.ridder(chi_vs_S_func2, S_min, S_vect[idx2])\n",
    "        Sp = opt.ridder(chi_vs_S_func2, S_vect[idx2], S_max)\n",
    "    elif np.min(chi_vect2) > chi_eff:\n",
    "        Sm = opt.ridder(chi_vs_S_func1, S_min, S_vect[idx1])\n",
    "        Sp = opt.ridder(chi_vs_S_func1, S_vect[idx1], S_max)\n",
    "    else:\n",
    "        try:\n",
    "            Sm = opt.ridder(chi_vs_S_func1, S_min, S_vect[idx1])\n",
    "        except ValueError:\n",
    "            Sm = opt.ridder(chi_vs_S_func1, S_vect[idx1], S_max)\n",
    "        try:\n",
    "            Sp = opt.ridder(chi_vs_S_func2, S_vect[idx2], S_max)\n",
    "        except ValueError:\n",
    "            Sp = opt.ridder(chi_vs_S_func2, S_min, S_vect[idx2])\n",
    "            \n",
    "    if Sm>Sp:\n",
    "        Sm, Sp = Sp, Sm\n",
    "    return Sm, Sp\n",
    "\n",
    "def find_S_chi_contour(J, L, e, par, nPt=1000):\n",
    "    M1, M2, S1, S2, chi_eff = par\n",
    "    qq=M2/M1\n",
    "    Mt=M1+M2\n",
    "    S_unit = G*Mt**2./c\n",
    "    \n",
    "    S_min = np.max([np.abs(J-L), np.abs(S1-S2)])\n",
    "    S_max = np.min([J+L, S1+S2])\n",
    "    S_vect = np.linspace(S_min, S_max, nPt)\n",
    "    \n",
    "    A1=np.sqrt(J**2. - (L-S_vect)**2.)\n",
    "    A2=np.sqrt((L+S_vect)**2. - J**2.)\n",
    "    A3=np.sqrt(S_vect**2. - (S1-S2)**2.)\n",
    "    A4=np.sqrt((S1+S2)**2. - S_vect**2.)\n",
    "    \n",
    "    chi_vect1 = ((J**2.-L**2.-S_vect**2.)\\\n",
    "                *((S_vect**2.*(1.+qq)**2.)\\\n",
    "                  -(S1**2.-S2**2.)*(1.-qq**2.))\\\n",
    "                 -(1.-qq**2.)*A1*A2*A3*A4)\\\n",
    "            /(4.*qq*S_unit*S_vect**2.*L)\n",
    "\n",
    "    chi_vect2 = ((J**2.-L**2.-S_vect**2.)\\\n",
    "                *((S_vect**2.*(1.+qq)**2.)\\\n",
    "                  -(S1**2.-S2**2.)*(1.-qq**2.))\\\n",
    "                 +(1.-qq**2.)*A1*A2*A3*A4)\\\n",
    "            /(4.*qq*S_unit*S_vect**2.*L)\n",
    "    \n",
    "    return S_vect, chi_vect1, chi_vect2\n",
    "    \n",
    "\n",
    "def get_tau_pre(J, L, e, par, nPt=1000):\n",
    "    M1, M2, S1, S2, chi_eff = par\n",
    "\n",
    "    Sm, Sp = find_Smp(J, L, e, par)\n",
    "    S_vect = np.linspace(Sm, Sp, nPt)\n",
    "    dSdt_vect = get_dSdt(J, L, e, S_vect, par)\n",
    "    tau_pre = 2.*integ.trapz(1./np.abs(dSdt_vect), S_vect)\n",
    "    return tau_pre    \n",
    "\n",
    "def evol_J_avg(L_nat, J_nat, e_vs_L_func, par, nPt=8000):\n",
    "    M1, M2, S1, S2, chi_eff = par\n",
    "    \n",
    "    Mt=M1+M2\n",
    "    \n",
    "    r_Mt = G*Mt/c**2.\n",
    "    S_Mt = G*Mt**2./c\n",
    "    \n",
    "    L=L_nat * S_Mt\n",
    "    J=J_nat * S_Mt\n",
    "    e_orb = e_vs_L_func(L)\n",
    "    \n",
    "    Sm, Sp = find_Smp(J, L, e_orb, par, nPt=nPt)\n",
    "    S_vect = np.linspace(Sm, Sp, nPt)\n",
    "    dSdt_vect = np.abs(get_dSdt(J, L, e_orb, S_vect, par))\n",
    "    \n",
    "    c_th_L = (J**2.+L**2.-S_vect**2.)/(2*J*L)\n",
    "    tau = 2.*integ.trapz(S_Mt/dSdt_vect, S_vect/S_Mt)\n",
    "    dJdL = 2./tau * integ.trapz(S_Mt*c_th_L/dSdt_vect, S_vect/S_Mt)\n",
    "    return dJdL\n",
    "\n",
    "def evol_J_avg_backup(L_nat, J_nat, e_vs_L_func, par, nPt=8000):\n",
    "    M1, M2, S1, S2, chi_eff = par\n",
    "    \n",
    "    Mt=M1+M2\n",
    "    mu=M1*M2/Mt\n",
    "    eta = M1*M2/Mt**2.\n",
    "    \n",
    "    r_Mt = G*Mt/c**2.\n",
    "    S_Mt = G*Mt**2./c\n",
    "    \n",
    "    L=L_nat * S_Mt\n",
    "    J=J_nat * S_Mt\n",
    "    \n",
    "    e_orb = e_vs_L_func(L)\n",
    "    a_orb = L**2./(G*mu**2.*Mt*(1.-e_orb**2.))\n",
    "    \n",
    "    t_gw = get_inst_t_gw_from_a_orb(M1, M2, a_orb, e_orb)\n",
    "    \n",
    "    Sm, Sp = find_Smp(J, L, e_orb, par, nPt=nPt)\n",
    "    S_vect = np.linspace(Sm, Sp, nPt)\n",
    "    dSdt_vect = np.abs(get_dSdt(J, L, e_orb, S_vect, par))\n",
    "    \n",
    "    inv_t_pre = np.abs(dSdt_vect/(S_vect+1.e-9*np.ones(nPt)*S_Mt))\n",
    "    if False:#np.min(inv_t_pre)<(.25/t_gw):\n",
    "        idx = np.argmin(inv_t_pre)\n",
    "        S = S_vect[idx]\n",
    "        c_th_L = (J**2.+L**2.-S**2.)/(2*J*L)\n",
    "        dJdL = c_th_L\n",
    "    else:\n",
    "        c_th_L = (J**2.+L**2.-S_vect**2.)/(2*J*L)\n",
    "        tau = 2.*integ.trapz(S_Mt/dSdt_vect, S_vect/S_Mt)\n",
    "        dJdL = 2./tau * integ.trapz(S_Mt*c_th_L/dSdt_vect, S_vect/S_Mt)\n",
    "    return dJdL"
   ]
  },
  {
   "cell_type": "code",
   "execution_count": 5,
   "metadata": {
    "Collapsed": "false"
   },
   "outputs": [
    {
     "name": "stdout",
     "output_type": "stream",
     "text": [
      "t_GW when a=a0/10: [yr] 7279370.702044483\n",
      "a/AU, e 10.0 0.9993594198191508\n",
      "chi_eff 0.002375384418909089\n",
      "L/Mt^2, J/Mt^2 38.661643599496365 38.66475235663297\n",
      "0.5878775382666184\n"
     ]
    },
    {
     "name": "stderr",
     "output_type": "stream",
     "text": [
      "/cvmfs/ligo-containers.opensciencegrid.org/lscsoft/conda/latest/envs/ligo-py37/lib/python3.7/site-packages/ipykernel/__main__.py:46: RuntimeWarning: invalid value encountered in sqrt\n"
     ]
    }
   ],
   "source": [
    "M1, M2=30.*Ms, 20.*Ms\n",
    "Mt = M1+M2\n",
    "mu_i = M1*M2/(M1+M2)\n",
    "qq=M2/M1\n",
    "eta = mu_i/Mt\n",
    "\n",
    "chi1, chi2 = 0.7, 0.7\n",
    "S1 = chi1 * G*M1**2./c\n",
    "S2 = chi2 * G*M2**2./c\n",
    "chi_eff = 0.002375384418909089\n",
    "\n",
    "r_Mt = G*Mt/c**2.\n",
    "S_Mt = G*Mt**2./c\n",
    "\n",
    "## quantities at the end of the LK run\n",
    "a_LK=10.*AU\n",
    "L_LK=38.661643599496365 * S_Mt\n",
    "J_LK=38.66475235663297 * S_Mt\n",
    "\n",
    "# e_LK=ei[-1]\n",
    "eff_LK = L_LK/(mu_i*np.sqrt(G*(M1+M2)*a_LK))\n",
    "e_LK = np.sqrt(1. - eff_LK**2.)\n",
    "\n",
    "t_GW_LK = get_inst_t_gw_from_a_orb(M1, M2, a_LK, e_LK) \n",
    "print('t_GW when a=a0/10: [yr]', t_GW_LK/P_yr)\n",
    "print('a/AU, e', a_LK/AU, e_LK)\n",
    "print('chi_eff', chi_eff)\n",
    "print('L/Mt^2, J/Mt^2', L_LK/S_Mt, J_LK/S_Mt)\n",
    "\n",
    "par_aL = np.array([M1, M2])\n",
    "\n",
    "int_func=lambda loga_, logL_:\\\n",
    "    evol_logL_vs_loga(loga_, logL_, par_aL)\n",
    "    \n",
    "sol=integ.solve_ivp(int_func, \\\n",
    "        t_span=(np.log(a_LK/r_Mt), np.log(6.)), y0=np.array([np.log(L_LK/S_Mt)]), rtol=3e-14, atol=1e-14)\n",
    "\n",
    "a_scal = np.exp(sol.t)*r_Mt\n",
    "L_scal = np.exp(sol.y[0, :])*S_Mt\n",
    "eff_scal = L_scal/(mu_i*np.sqrt(G*(M1+M2)*a_scal))\n",
    "e_scal = np.sqrt(1. - eff_scal**2.)\n",
    "\n",
    "print(L_scal[-1]/S_Mt)\n",
    "\n",
    "loge_vs_logL_tck = interp.splrep(np.log(L_scal[::-1]), np.log(e_scal[::-1]))\n",
    "logL_vs_loga_tck = interp.splrep(np.log(a_scal[::-1]), np.log(L_scal[::-1]))\n",
    "e_vs_L_func=lambda LL: np.exp(interp.splev(np.log(LL), loge_vs_logL_tck))\n",
    "L_vs_a_func=lambda aa: np.exp(interp.splev(np.log(aa), logL_vs_loga_tck))"
   ]
  },
  {
   "cell_type": "code",
   "execution_count": 26,
   "metadata": {
    "Collapsed": "false"
   },
   "outputs": [
    {
     "name": "stdout",
     "output_type": "stream",
     "text": [
      "r = 1000 M\n",
      "J, L, e 7.596467347144305 7.589278177517016 0.00704246106694598\n"
     ]
    }
   ],
   "source": [
    "nPt = 50\n",
    "par_JL = np.array([M1, M2, S1, S2, chi_eff])\n",
    "int_func=lambda L_nat_, J_nat_:\\\n",
    "    evol_J_avg(L_nat_, J_nat_, e_vs_L_func, par_JL, nPt=nPt)\n",
    "\n",
    "L_1kM = L_vs_a_func(1000.*r_Mt)\n",
    "e_1kM = e_vs_L_func(L_1kM)\n",
    "sol=integ.solve_ivp(int_func, \\\n",
    "    t_span=(L_LK/S_Mt, L_1kM/S_Mt), y0=np.array([J_LK/S_Mt]), rtol=3e-12, atol=1e-12)\n",
    "\n",
    "J_1kM = sol.y[0,-1] * S_Mt\n",
    "print('r = 1000 M')\n",
    "print('J, L, e', J_1kM/S_Mt, L_1kM/S_Mt, e_1kM)\n",
    "\n",
    "Sm_1kM, Sp_1kM=find_Smp(J_1kM, L_1kM, e_1kM, par_JL)"
   ]
  },
  {
   "cell_type": "code",
   "execution_count": 39,
   "metadata": {
    "Collapsed": "false"
   },
   "outputs": [
    {
     "name": "stdout",
     "output_type": "stream",
     "text": [
      "r = 6 M\n",
      "J, L, e 0.6477662101346524 0.5878775382666179 2.1385113240373448e-06\n"
     ]
    }
   ],
   "source": [
    "L_isco = L_vs_a_func(6.*r_Mt)\n",
    "e_isco = e_vs_L_func(L_isco)\n",
    "sol=integ.solve_ivp(int_func, \\\n",
    "    t_span=(L_LK/S_Mt, L_isco/S_Mt), y0=np.array([J_LK/S_Mt]), rtol=3e-14, atol=1e-17)\n",
    "\n",
    "J_isco = sol.y[0,-1] * S_Mt\n",
    "print('r = 6 M')\n",
    "print('J, L, e', J_isco/S_Mt, L_isco/S_Mt, e_isco)\n",
    "\n",
    "Sm_isco, Sp_isco=find_Smp(J_isco, L_isco, e_isco, par_JL)"
   ]
  },
  {
   "cell_type": "code",
   "execution_count": 47,
   "metadata": {
    "Collapsed": "false"
   },
   "outputs": [],
   "source": [
    "LL, JJ = sol.t*S_Mt, sol.y[0, :]*S_Mt\n",
    "ee = e_vs_L_func(LL)\n",
    "aa = LL**2./(mu_i**2.*G*(M1+M2)*(1.-ee**2.))\n",
    "nLL = len(LL)\n",
    "\n",
    "dJdL, dJdLm, dJdLp = np.zeros(nLL), np.zeros(nLL), np.zeros(nLL)\n",
    "t_pre, t_pre_m, t_pre_p = np.zeros(nLL), np.zeros(nLL), np.zeros(nLL)\n",
    "t_gw = np.zeros(nLL)\n",
    "for i in range(nLL):\n",
    "    dJdL[i] = int_func(LL[i]/S_Mt, JJ[i]/S_Mt)\n",
    "    \n",
    "    SSm, SSp = find_Smp(JJ[i], LL[i], ee[i], par_JL, nPt)\n",
    "    dJdLm[i] = (JJ[i]**2. + LL[i]**2. - SSm**2.)/(2.*JJ[i]*LL[i])\n",
    "    dJdLp[i] = (JJ[i]**2. + LL[i]**2. - SSp**2.)/(2.*JJ[i]*LL[i])\n",
    "    \n",
    "    dSdt_m = np.abs(get_dSdt(JJ[i], LL[i], ee[i], SSm, par_JL))\n",
    "    dSdt_p = np.abs(get_dSdt(JJ[i], LL[i], ee[i], SSp, par_JL))\n",
    "    \n",
    "    t_pre_m[i] = SSm/dSdt_m\n",
    "    t_pre_p[i] = SSp/dSdt_p\n",
    "#     t_pre[i]=get_tau_pre(JJ[i], LL[i], ee[i], par_JL, nPt)\n",
    "    t_pre[i] = c**2.*aa[i]**2.5/(eta*(G*Mt)**1.5) # just get the scaling\n",
    "    t_gw[i]=get_inst_t_gw_from_a_orb(M1, M2, aa[i], ee[i])"
   ]
  },
  {
   "cell_type": "code",
   "execution_count": 44,
   "metadata": {
    "Collapsed": "false"
   },
   "outputs": [
    {
     "data": {
      "text/plain": [
       "Text(0.5, 0, '$a/M_{\\\\rm t}$')"
      ]
     },
     "execution_count": 44,
     "metadata": {},
     "output_type": "execute_result"
    },
    {
     "data": {
      "image/png": "[encoded data removed]",
      "text/plain": [
       "<Figure size 648x504 with 2 Axes>"
      ]
     },
     "metadata": {
      "needs_background": "light"
     },
     "output_type": "display_data"
    }
   ],
   "source": [
    "fig=plt.figure()\n",
    "ax=fig.add_subplot(211)\n",
    "ax.plot(aa/r_Mt, dJdL, label=r'$<\\frac{\\textrm{d}J}{\\textrm{d}L}>$')\n",
    "ax.fill_between(aa/r_Mt, dJdLp, dJdLm, color='tab:grey', alpha=0.5)\n",
    "ax.set_ylabel(r'$\\frac{{\\rm d}J}{{\\rm d}L}$')\n",
    "ax.set_xscale('log')\n",
    "# ax.set_ylim([0.9, 1.])\n",
    "\n",
    "ax=fig.add_subplot(212)\n",
    "ax.plot(aa/r_Mt, (dJdLm-dJdLp)/dJdL)\n",
    "ax.set_xscale('log')\n",
    "ax.set_ylabel('Fractional Variation')\n",
    "ax.set_xlabel(r'$a/M_{\\rm t}$')"
   ]
  },
  {
   "cell_type": "code",
   "execution_count": 48,
   "metadata": {
    "Collapsed": "false"
   },
   "outputs": [
    {
     "data": {
      "text/plain": [
       "<matplotlib.legend.Legend at 0x7f787f5c92b0>"
      ]
     },
     "execution_count": 48,
     "metadata": {},
     "output_type": "execute_result"
    },
    {
     "data": {
      "image/png": "[encoded data removed]",
      "text/plain": [
       "<Figure size 648x504 with 1 Axes>"
      ]
     },
     "metadata": {
      "needs_background": "light"
     },
     "output_type": "display_data"
    }
   ],
   "source": [
    "fig=plt.figure()\n",
    "ax=fig.add_subplot(111)\n",
    "ax.loglog(aa/r_Mt, t_gw, label=r'$t_{\\rm gw}$')\n",
    "ax.loglog(aa/r_Mt, t_pre, label=r'$\\tau_{\\rm pre}$')\n",
    "ax.loglog(aa/r_Mt, t_pre_m, label=r'$S/({\\rm d}S/{\\rm d}t)|_{S_-}$')\n",
    "ax.loglog(aa/r_Mt, t_pre_p, label=r'$S/({\\rm d}S/{\\rm d}t)|_{S_+}$')\n",
    "ax.legend()"
   ]
  },
  {
   "cell_type": "code",
   "execution_count": null,
   "metadata": {
    "Collapsed": "false"
   },
   "outputs": [],
   "source": []
  },
  {
   "cell_type": "code",
   "execution_count": null,
   "metadata": {
    "Collapsed": "false"
   },
   "outputs": [],
   "source": []
  },
  {
   "cell_type": "code",
   "execution_count": null,
   "metadata": {
    "Collapsed": "false"
   },
   "outputs": [],
   "source": []
  },
  {
   "cell_type": "code",
   "execution_count": null,
   "metadata": {
    "Collapsed": "false"
   },
   "outputs": [],
   "source": []
  },
  {
   "cell_type": "code",
   "execution_count": 3,
   "metadata": {
    "Collapsed": "false"
   },
   "outputs": [],
   "source": [
    "def evol_aLe(t_nat, y_nat_vect, par_aLe):\n",
    "    a_nat, L_nat, e_orb = y_nat_vect\n",
    "    M1, M2, t_unit, a_unit, L_unit = par_aLe\n",
    "\n",
    "    Mt=M1+M2\n",
    "    mu=M1*M2/Mt\n",
    "    \n",
    "    a_orb = a_nat*a_unit\n",
    "    L_orb = L_nat * L_unit\n",
    "    eff = np.sqrt(1.-e_orb**2.)\n",
    "    \n",
    "    G3_c5 = G**3./c**5.\n",
    "    e2 = e_orb**2.\n",
    "    e4 = e_orb**4.\n",
    "    da = - (64./5.*G3_c5) * (mu*(M1+M2)**2./(a_orb**3.))\\\n",
    "          * (1. + 73./24.*e2 + 37./96.*e4)/(eff**7.)    \n",
    "    dL = - (32./5.*G3_c5*np.sqrt(G)) * mu**2.*(M1+M2)**2.5 / (a_orb**3.5) \\\n",
    "          * (1.+0.875*e2)/(eff**4.)\n",
    "    de = - (304./15.*G3_c5) * mu*(M1+M2)**2.*e_orb/(a_orb**4.)\\\n",
    "          * (1.+121./304.*e2)/(eff**5.)\n",
    "    \n",
    "    dy_nat_vect = np.array([\\\n",
    "        da/a_unit, dL/L_unit, de])*t_unit\n",
    "    return dy_nat_vect\n",
    "\n",
    "def evol_log_aL(t_nat, logy_vect, par_aL):\n",
    "    loga, logL = logy_vect\n",
    "    M1, M2, t_unit= par_aL\n",
    "    Mt=M1+M2\n",
    "    mu=M1*M2/Mt\n",
    "    \n",
    "    a_orb = np.exp(loga)\n",
    "    L_orb = np.exp(logL)\n",
    "    eff = L_orb/(mu*np.sqrt(G*Mt*a_orb))\n",
    "    e_orb = np.sqrt(1.-eff**2.)\n",
    "    \n",
    "    G3_c5 = G**3./c**5.\n",
    "    e2 = e_orb**2.\n",
    "    e4 = e_orb**4.\n",
    "    \n",
    "    da = - (64./5.*G3_c5) * (mu*(M1+M2)**2./(a_orb**3.))\\\n",
    "          * (1. + 73./24.*e2 + 37./96.*e4)/(eff**7.)    \n",
    "    dL = - (32./5.*G3_c5*np.sqrt(G)) * mu**2.*(M1+M2)**2.5 / (a_orb**3.5) \\\n",
    "          * (1.+0.875*e2)/(eff**4.)\n",
    "    \n",
    "    dlogy_vect = np.array([da/a_orb, dL/L_orb]) * t_unit\n",
    "    return dlogy_vect"
   ]
  },
  {
   "cell_type": "code",
   "execution_count": 10,
   "metadata": {
    "Collapsed": "false"
   },
   "outputs": [],
   "source": [
    "def get_inst_t_gw_from_a_orb(M1, M2, a_orb, e):\n",
    "    Mt=M1+M2\n",
    "    mu=M1*M2/(M1+M2)\n",
    "    inv_t_gw = (64./5.)*(G**3./c**5.)*mu*Mt**2./a_orb**4. \\\n",
    "                * (1.+73./24.*e**2+37./96.*e**4.)/(1.-e**2.)**(3.5)\n",
    "    t_gw = 1./inv_t_gw\n",
    "    return t_gw\n",
    "\n",
    "def get_angles(J, L, e, S, par):\n",
    "    M1, M2, S1, S2, chi_eff = par\n",
    "    \n",
    "    qq=M2/M1\n",
    "    Mt=M1+M2\n",
    "    \n",
    "    c_th1 = 0.5 * 1./((1.-qq)*S1) * \\\n",
    "        ((J**2. - L**2. - S**2.)/L  - 2.*qq*G*Mt**2./c*chi_eff/(1.+qq))\n",
    "    c_th2 = 0.5 * qq/((1.-qq)*S2) * \\\n",
    "        (-(J**2.-L**2.-S**2.)/L + 2.*G*Mt**2./c*chi_eff/(1.+qq))\n",
    "    c_th12 = (S**2. - S1**2. -S2**2.)/(2.*S1*S2)\n",
    "    \n",
    "    th1, th2, th12 = np.arccos(c_th1), np.arccos(c_th2), np.arccos(c_th12)\n",
    "    c_dphi = (c_th12 - c_th1*c_th2)/(np.sin(th1) * np.sin(th2))\n",
    "    dphi = np.arccos(c_dphi)\n",
    "    return th1, th2, th12, dphi\n",
    "\n",
    "def get_dSdt(J, L, e, S, par):\n",
    "    M1, M2, S1, S2, chi_eff = par\n",
    "    \n",
    "    qq=M2/M1\n",
    "    Mt=M1+M2\n",
    "    mu=M1*M2/Mt\n",
    "    eta=mu/Mt\n",
    "    eff = np.sqrt(1.-e**2.)\n",
    "    \n",
    "    th1, th2, th12, dphi = get_angles(J, L, e, S, par)\n",
    "    \n",
    "    dSdt = 1.5*eta**6. * eff**3. * (1-qq**2.)/qq * ((G*Mt**2./c)/L)**5.\\\n",
    "        * (c**3./G/Mt) * (S1*S2/S)\\\n",
    "        * (-1. + 0.5*qq/(1.-qq)**2.*(J**2.-L**2.-S**2.)/L**2. \\\n",
    "          - 2.*qq**2./(1.-qq**2.)**2.*G*Mt**2./c/L*chi_eff)\\\n",
    "        * np.sin(th1) * np.sin(th2) * np.sin(dphi)\n",
    "    return dSdt\n",
    "\n",
    "def find_Smp(J, L, e, par, nPt=1000):\n",
    "    M1, M2, S1, S2, chi_eff = par\n",
    "    qq=M2/M1\n",
    "    Mt=M1+M2\n",
    "    S_unit = G*Mt**2./c\n",
    "    \n",
    "    S_min = np.max([np.abs(J-L), np.abs(S1-S2)])\n",
    "    S_max = np.min([J+L, S1+S2])\n",
    "    S_vect = np.linspace(S_min, S_max, nPt)\n",
    "    \n",
    "    A1=np.sqrt(J**2. - (L-S_vect)**2.)\n",
    "    A2=np.sqrt((L+S_vect)**2. - J**2.)\n",
    "    A3=np.sqrt(S_vect**2. - (S1-S2)**2.)\n",
    "    A4=np.sqrt((S1+S2)**2. - S_vect**2.)\n",
    "    \n",
    "    chi_vect1 = ((J**2.-L**2.-S_vect**2.)\\\n",
    "                *((S_vect**2.*(1.+qq)**2.)\\\n",
    "                  -(S1**2.-S2**2.)*(1.-qq**2.))\\\n",
    "                 -(1.-qq**2.)*A1*A2*A3*A4)\\\n",
    "            /(4.*qq*S_unit*S_vect**2.*L)\n",
    "\n",
    "    chi_vect2 = ((J**2.-L**2.-S_vect**2.)\\\n",
    "                *((S_vect**2.*(1.+qq)**2.)\\\n",
    "                  -(S1**2.-S2**2.)*(1.-qq**2.))\\\n",
    "                 +(1.-qq**2.)*A1*A2*A3*A4)\\\n",
    "            /(4.*qq*S_unit*S_vect**2.*L)\n",
    "    \n",
    "    # note here is S vs chi-chi_eff!\n",
    "    chi_vs_S_func1 = interp.interp1d(S_vect, chi_vect1-chi_eff)\n",
    "    chi_vs_S_func2 = interp.interp1d(S_vect, chi_vect2-chi_eff)\n",
    "    \n",
    "    idx1 = np.argmin(chi_vect1)\n",
    "    idx2 = np.argmax(chi_vect2)\n",
    "    \n",
    "    if np.max(chi_vect1) < chi_eff:\n",
    "        Sm = opt.ridder(chi_vs_S_func2, S_min, S_vect[idx2])\n",
    "        Sp = opt.ridder(chi_vs_S_func2, S_vect[idx2], S_max)\n",
    "    elif np.min(chi_vect2) > chi_eff:\n",
    "        Sm = opt.ridder(chi_vs_S_func1, S_min, S_vect[idx1])\n",
    "        Sp = opt.ridder(chi_vs_S_func1, S_vect[idx1], S_max)\n",
    "    else:\n",
    "        try:\n",
    "            Sm = opt.ridder(chi_vs_S_func1, S_min, S_vect[idx1])\n",
    "        except ValueError:\n",
    "            Sm = opt.ridder(chi_vs_S_func1, S_vect[idx1], S_max)\n",
    "        try:\n",
    "            Sp = opt.ridder(chi_vs_S_func2, S_vect[idx2], S_max)\n",
    "        except ValueError:\n",
    "            Sp = opt.ridder(chi_vs_S_func2, S_min, S_vect[idx2])\n",
    "            \n",
    "    if Sm>Sp:\n",
    "        Sm, Sp = Sp, Sm\n",
    "    return Sm, Sp\n",
    "\n",
    "def find_S_chi_contour(J, L, e, par, nPt=1000):\n",
    "    M1, M2, S1, S2, chi_eff = par\n",
    "    qq=M2/M1\n",
    "    Mt=M1+M2\n",
    "    S_unit = G*Mt**2./c\n",
    "    \n",
    "    S_min = np.max([np.abs(J-L), np.abs(S1-S2)])\n",
    "    S_max = np.min([J+L, S1+S2])\n",
    "    S_vect = np.linspace(S_min, S_max, nPt)\n",
    "    \n",
    "    A1=np.sqrt(J**2. - (L-S_vect)**2.)\n",
    "    A2=np.sqrt((L+S_vect)**2. - J**2.)\n",
    "    A3=np.sqrt(S_vect**2. - (S1-S2)**2.)\n",
    "    A4=np.sqrt((S1+S2)**2. - S_vect**2.)\n",
    "    \n",
    "    chi_vect1 = ((J**2.-L**2.-S_vect**2.)\\\n",
    "                *((S_vect**2.*(1.+qq)**2.)\\\n",
    "                  -(S1**2.-S2**2.)*(1.-qq**2.))\\\n",
    "                 -(1.-qq**2.)*A1*A2*A3*A4)\\\n",
    "            /(4.*qq*S_unit*S_vect**2.*L)\n",
    "\n",
    "    chi_vect2 = ((J**2.-L**2.-S_vect**2.)\\\n",
    "                *((S_vect**2.*(1.+qq)**2.)\\\n",
    "                  -(S1**2.-S2**2.)*(1.-qq**2.))\\\n",
    "                 +(1.-qq**2.)*A1*A2*A3*A4)\\\n",
    "            /(4.*qq*S_unit*S_vect**2.*L)\n",
    "    \n",
    "    return S_vect, chi_vect1, chi_vect2\n",
    "    \n",
    "\n",
    "def get_tau_pre(J, L, e, par, nPt=1000):\n",
    "    M1, M2, S1, S2, chi_eff = par\n",
    "\n",
    "    Sm, Sp = find_Smp(J, L, e, par)\n",
    "    S_vect = np.linspace(Sm, Sp, nPt)\n",
    "    dSdt_vect = get_dSdt(J, L, e, S_vect, par)\n",
    "    tau_pre = 2.*integ.trapz(1./np.abs(dSdt_vect), S_vect)\n",
    "    return tau_pre \n",
    "\n",
    "def evol_J_avg(L_nat, J_nat, e_vs_L_func, par, nPt=1000):\n",
    "    M1, M2, S1, S2, chi_eff = par\n",
    "    \n",
    "    Mt=M1+M2\n",
    "    mu=M1*M2/Mt\n",
    "    eta = M1*M2/Mt**2.\n",
    "    \n",
    "    r_Mt = G*Mt/c**2.\n",
    "    S_Mt = G*Mt**2./c\n",
    "    \n",
    "    L=L_nat * S_Mt\n",
    "    J=J_nat * S_Mt\n",
    "    \n",
    "    e_orb = e_vs_L_func(L)\n",
    "    a_orb = L**2./(G*mu**2.*Mt*(1.-e_orb**2.))\n",
    "    \n",
    "    t_gw = get_inst_t_gw_from_a_orb(M1, M2, a_orb, e_orb)\n",
    "    \n",
    "    Sm, Sp = find_Smp(J, L, e_orb, par, nPt=nPt)\n",
    "    S_vect = np.linspace(Sm, Sp, nPt)\n",
    "    dSdt_vect = np.abs(get_dSdt(J, L, e_orb, S_vect, par))\n",
    "    \n",
    "    inv_t_pre = np.abs(dSdt_vect/(S_vect+1.e-9*np.ones(nPt)*S_Mt))\n",
    "    if np.min(inv_t_pre)<(1./t_gw):\n",
    "        idx = np.argmin(inv_t_pre)\n",
    "        S = S_vect[idx]\n",
    "        c_th_L = (J**2.+L**2.-S**2.)/(2*J*L)\n",
    "        dJdL = c_th_L\n",
    "    else:\n",
    "        c_th_L = (J**2.+L**2.-S_vect**2.)/(2*J*L)\n",
    "        tau = 2.*integ.trapz(S_Mt/dSdt_vect, S_vect/S_Mt)\n",
    "        dJdL = 2./tau * integ.trapz(S_Mt*c_th_L/dSdt_vect, S_vect/S_Mt)\n",
    "    return dJdL\n",
    "\n",
    "def evol_J_avg_backup(L_nat, J_nat, e_vs_L_func, par, nPt=1000):\n",
    "    M1, M2, S1, S2, chi_eff = par\n",
    "    \n",
    "    Mt=M1+M2\n",
    "    mu=M1*M2/Mt\n",
    "    eta = M1*M2/Mt**2.\n",
    "    \n",
    "    S_unit = G*Mt**2./c\n",
    "    L=L_nat * S_unit\n",
    "    J=J_nat * S_unit\n",
    "    \n",
    "    e_orb = e_vs_L_func(L)\n",
    "    a_orb = L**2./(G*mu**2.*Mt*(1.-e_orb**2.))\n",
    "    r_unit = G*Mt/c**2.\n",
    "    t_unit = np.sqrt(a_orb**3./(G*Mt))/eta * (a_orb/r_unit)\n",
    "    \n",
    "    Sm, Sp = find_Smp(J, L, e_orb, par, nPt=nPt)\n",
    "    S_vect = np.linspace(Sm, Sp, nPt)\n",
    "    \n",
    "    c_th_L = (J**2.+L**2.-S_vect**2.)/(2*J*L)\n",
    "    dSdt_vect = np.abs(get_dSdt(J, L, e_orb, S_vect, par))\n",
    "    \n",
    "    idx=(dSdt_vect/S_unit*t_unit) < 1.e-6\n",
    "    dSdt_vect[idx] = np.inf * np.ones(len(dSdt_vect[idx]))\n",
    "    \n",
    "    tau = 2.*integ.trapz(S_unit/dSdt_vect, S_vect/S_unit)\n",
    "    \n",
    "    dJdL = 2./tau * integ.trapz(S_unit*c_th_L/dSdt_vect, S_vect/S_unit)\n",
    "    return dJdL\n",
    "\n",
    "def my_dJdL_integrator(dJdL_nat_func, L_nat_vect, J_nat_init):\n",
    "    J_nat_vect = np.zeros(len(L_nat_vect))\n",
    "    J_nat_vect[0] = J_nat_init\n",
    "    \n",
    "    for i in range(len(L_nat_vect)-1):\n",
    "        LL = L_nat_vect[i]\n",
    "        JJ = J_nat_vect[i]\n",
    "        dL = L_nat_vect[i+1]-L_nat_vect[i]\n",
    "        \n",
    "        dJ_nat = dJdL_nat_func(LL, JJ)*dL\n",
    "        J_nat_vect[i+1] = J_nat_vect[i] + dJ_nat\n",
    "        \n",
    "    return J_nat_vect"
   ]
  },
  {
   "cell_type": "code",
   "execution_count": 5,
   "metadata": {
    "Collapsed": "false"
   },
   "outputs": [],
   "source": [
    "M1, M2 = 30.*Ms, 20.*Ms\n",
    "Mt=(M1+M2)\n",
    "mu=M1*M2/Mt\n",
    "qq=M2/M1\n",
    "eta=mu/Mt\n",
    "\n",
    "r_Mt = G*Mt/c**2.\n",
    "S_Mt = G*Mt**2./c\n",
    "\n",
    "chi1, chi2=0.7, 0.7\n",
    "S1 = chi1*G*M1**2./c\n",
    "S2 = chi2*G*M2**2./c"
   ]
  },
  {
   "cell_type": "code",
   "execution_count": 6,
   "metadata": {
    "Collapsed": "false"
   },
   "outputs": [],
   "source": [
    "chi_eff=0.00237398066724518\n",
    "\n",
    "a_init = 10.*AU\n",
    "e_init = 0.9994755828054394\n",
    "L_init = 38.49467592859119 * S_Mt\n",
    "J_init= 38.49800158044044 * S_Mt\n",
    "\n",
    "t_gw = (64./5.)*(G**3./c**5.)*mu*Mt**2./a_init**4. \\\n",
    "        * (1.+73./24.*e_init**2+37./96.*e_init**4.)/(1.-e_init**2.)**(3.5)\n",
    "t_gw = 1./t_gw\n",
    "\n",
    "t_unit = t_gw\n",
    "a_unit = a_init\n",
    "L_unit = L_init\n",
    "\n",
    "par_aLe = np.array([M1, M2, t_unit, a_unit, L_unit])\n",
    "par_aL = np.array([M1, M2, t_unit])\n",
    "\n",
    "y_nat_init = np.array([a_init/a_unit, L_init/L_unit, e_init])\n",
    "logy_init = np.array([np.log(a_init), np.log(L_init)])"
   ]
  },
  {
   "cell_type": "code",
   "execution_count": 7,
   "metadata": {
    "Collapsed": "false"
   },
   "outputs": [],
   "source": [
    "def terminator(t_nat, y_nat_vect, par_aLe):\n",
    "    a_nat, L_nat, e_orb = y_nat_vect\n",
    "    M1, M2, t_unit, a_unit, L_unit = par_aLe\n",
    "\n",
    "    a_orb = a_nat*a_unit\n",
    "    resi = (a_orb - 3.*r_Mt)/a_unit\n",
    "    return resi\n",
    "\n",
    "term_func=lambda t_nat_, y_nat_vect_:terminator(t_nat_, y_nat_vect_, par_aLe)\n",
    "term_func.direction = -1\n",
    "term_func.terminal = True\n",
    "\n",
    "int_func=lambda t_nat_, y_nat_vect_:\\\n",
    "    evol_aLe(t_nat_, y_nat_vect_, par_aLe)\n",
    "    \n",
    "sol0=integ.solve_ivp(int_func, \\\n",
    "        t_span=(0, 30), y0=y_nat_init, rtol=3e-14, atol=1e-14, \\\n",
    "        events=term_func)\n",
    "\n",
    "def terminator(t_nat, logy_vect, par_aL):\n",
    "    loga, logL = logy_vect\n",
    "    M1, M2, t_unit = par_aL\n",
    "\n",
    "    a_orb = np.exp(loga)\n",
    "    resi = (a_orb/r_Mt - 3.)\n",
    "    return resi\n",
    "\n",
    "term_func=lambda t_nat_, logy_vect_:terminator(t_nat_, logy_vect_, par_aL)\n",
    "term_func.direction = -1\n",
    "term_func.terminal = True\n",
    "\n",
    "int_func=lambda t_nat_, logy_vect_:\\\n",
    "    evol_log_aL(t_nat_, logy_vect_, par_aL)\n",
    "    \n",
    "sol1=integ.solve_ivp(int_func, \\\n",
    "        t_span=(0, 30), y0=logy_init, rtol=3e-14, atol=1e-14, \\\n",
    "        events=term_func)"
   ]
  },
  {
   "cell_type": "code",
   "execution_count": 8,
   "metadata": {
    "Collapsed": "false"
   },
   "outputs": [
    {
     "data": {
      "text/plain": [
       "[<matplotlib.lines.Line2D at 0x7fe6685f0048>]"
      ]
     },
     "execution_count": 8,
     "metadata": {},
     "output_type": "execute_result"
    },
    {
     "data": {
      "image/png": "[encoded data removed]",
      "text/plain": [
       "<Figure size 648x504 with 1 Axes>"
      ]
     },
     "metadata": {
      "needs_background": "light"
     },
     "output_type": "display_data"
    }
   ],
   "source": [
    "t0=sol0.t * t_unit\n",
    "a_orb0 = sol0.y[0, :]*a_unit\n",
    "L_orb0 = sol0.y[1, :]*L_unit\n",
    "e_orb0 = sol0.y[2, :]\n",
    "\n",
    "t1=sol1.t * t_unit\n",
    "a_orb1 = np.exp(sol1.y[0, :])\n",
    "L_orb1 = np.exp(sol1.y[1, :])\n",
    "eff_orb1 = L_orb1/(mu*np.sqrt(G*Mt*a_orb1))\n",
    "e_orb1 = np.sqrt(1.-eff_orb1)\n",
    "\n",
    "loge_vs_logL_tck0 = interp.splrep(np.log(L_orb0[::-1]), np.log(e_orb0[::-1]))\n",
    "logL_vs_loga_tck0 = interp.splrep(np.log(a_orb0[::-1]), np.log(L_orb0[::-1]))\n",
    "e_vs_L_func0=lambda LL: np.exp(interp.splev(np.log(LL), loge_vs_logL_tck0))\n",
    "L_vs_a_func0=lambda aa: np.exp(interp.splev(np.log(aa), logL_vs_loga_tck0))\n",
    "\n",
    "loge_vs_logL_tck1 = interp.splrep(np.log(L_orb1[::-1]), np.log(e_orb1[::-1]))\n",
    "logL_vs_loga_tck1 = interp.splrep(np.log(a_orb1[::-1]), np.log(L_orb1[::-1]))\n",
    "e_vs_L_func1=lambda LL: np.exp(interp.splev(np.log(LL), loge_vs_logL_tck1))\n",
    "L_vs_a_func1=lambda aa: np.exp(interp.splev(np.log(aa), logL_vs_loga_tck1))\n",
    "\n",
    "fig=plt.figure()\n",
    "ax=fig.add_subplot(111)\n",
    "ax.loglog(a_orb0, e_orb0)\n",
    "ax.loglog(a_orb1, e_orb1)"
   ]
  },
  {
   "cell_type": "code",
   "execution_count": 9,
   "metadata": {
    "Collapsed": "false"
   },
   "outputs": [
    {
     "name": "stdout",
     "output_type": "stream",
     "text": [
      "38.49467592859119 7.589272945259946\n"
     ]
    },
    {
     "name": "stderr",
     "output_type": "stream",
     "text": [
      "/cvmfs/ligo-containers.opensciencegrid.org/lscsoft/conda/latest/envs/ligo-py37/lib/python3.7/site-packages/ipykernel/__main__.py:157: RuntimeWarning: divide by zero encountered in double_scalars\n",
      "/cvmfs/ligo-containers.opensciencegrid.org/lscsoft/conda/latest/envs/ligo-py37/lib/python3.7/site-packages/ipykernel/__main__.py:157: RuntimeWarning: invalid value encountered in double_scalars\n"
     ]
    }
   ],
   "source": [
    "par_JL = np.array([M1, M2, S1, S2, chi_eff])\n",
    "int_func=lambda L_nat_, J_nat_:\\\n",
    "    evol_J_avg(L_nat_, J_nat_, e_vs_L_func1, par_JL)\n",
    "\n",
    "L_1kM_1 = L_vs_a_func1(1000.*r_Mt)\n",
    "L_nat_vect = np.linspace(L_init/S_Mt, L_1kM_1/S_Mt, 1e4)\n",
    "print(L_nat_vect[0], L_nat_vect[-1])\n",
    "\n",
    "J_nat_vect = my_dJdL_integrator(int_func, L_nat_vect, J_init/S_Mt)"
   ]
  },
  {
   "cell_type": "code",
   "execution_count": 10,
   "metadata": {
    "Collapsed": "false"
   },
   "outputs": [
    {
     "name": "stdout",
     "output_type": "stream",
     "text": [
      "25.64910589171504 25.65292283491915\n"
     ]
    }
   ],
   "source": [
    "idx = np.isfinite(J_nat_vect)\n",
    "print(L_nat_vect[idx][-1], J_nat_vect[idx][-1])"
   ]
  },
  {
   "cell_type": "code",
   "execution_count": 66,
   "metadata": {
    "Collapsed": "false"
   },
   "outputs": [
    {
     "name": "stdout",
     "output_type": "stream",
     "text": [
      "0.23609090968646693\n",
      "0.00237398066724518\n",
      "0.14003012341258217 0.3639999911630099\n"
     ]
    }
   ],
   "source": [
    "LL_test=25.64910589171504 * S_Mt\n",
    "JJ_test=25.65292283491915 * S_Mt\n",
    "e_test =e_vs_L_func1(LL_test)\n",
    "print(e_test)\n",
    "\n",
    "S_vect, chi_vect1, chi_vect2=find_S_chi_contour(JJ_test, LL_test, e_test, par_JL)\n",
    "Sm, Sp = find_Smp(JJ_test, LL_test, e_test, par_JL)\n",
    "print(Sm/S_Mt, Sp/S_Mt)\n",
    "\n",
    "# fig=plt.figure()\n",
    "# ax=fig.add_subplot(111)\n",
    "# ax.plot(S_vect/S_Mt, chi_vect1)\n",
    "# ax.plot(S_vect/S_Mt, chi_vect2)\n",
    "# ax.axhline(chi_eff, ls=':', color='grey')"
   ]
  },
  {
   "cell_type": "code",
   "execution_count": 11,
   "metadata": {
    "Collapsed": "false"
   },
   "outputs": [],
   "source": [
    "par_JL = np.array([M1, M2, S1, S2, chi_eff])\n",
    "\n",
    "L_1kM_0 = L_vs_a_func0(1000.*r_Mt)\n",
    "e_1kM_0 = e_vs_L_func0(L_1kM_0)\n",
    "int_func=lambda L_nat_, J_nat_:\\\n",
    "    evol_J_avg(L_nat_, J_nat_, e_vs_L_func0, par_JL)\n",
    "sol0=integ.solve_ivp(int_func, \\\n",
    "    t_span=(L_init/S_Mt, L_1kM_0/S_Mt), y0=np.array([J_init/S_Mt]), rtol=1e-10, atol=1e-10)\n",
    "\n",
    "L_1kM_1 = L_vs_a_func1(1000.*r_Mt)\n",
    "e_1kM_1 = e_vs_L_func1(L_1kM_1)\n",
    "int_func=lambda L_nat_, J_nat_:\\\n",
    "    evol_J_avg(L_nat_, J_nat_, e_vs_L_func1, par_JL)\n",
    "sol1=integ.solve_ivp(int_func, \\\n",
    "    t_span=(L_init/S_Mt, L_1kM_1/S_Mt), y0=np.array([J_init/S_Mt]), rtol=1e-10, atol=1e-10)"
   ]
  },
  {
   "cell_type": "code",
   "execution_count": 15,
   "metadata": {
    "Collapsed": "false"
   },
   "outputs": [
    {
     "name": "stdout",
     "output_type": "stream",
     "text": [
      "0.6836082175602363 1.4627888993547864 0.9999745121548255\n",
      "0.009667267357489595 0.005048548822083564\n"
     ]
    }
   ],
   "source": [
    "L_1kM_ref = mu * np.sqrt(G*Mt*1000.*r_Mt)\n",
    "\n",
    "print(L_1kM_1/L_1kM_0, L_1kM_0/L_1kM_ref, L_1kM_1/L_1kM_ref)\n",
    "print(e_1kM_0, e_1kM_1)\n"
   ]
  },
  {
   "cell_type": "code",
   "execution_count": 13,
   "metadata": {
    "Collapsed": "false"
   },
   "outputs": [
    {
     "data": {
      "text/plain": [
       "[<matplotlib.lines.Line2D at 0x7fe57fbc8080>]"
      ]
     },
     "execution_count": 13,
     "metadata": {},
     "output_type": "execute_result"
    },
    {
     "data": {
      "image/png": "[encoded data removed]",
      "text/plain": [
       "<Figure size 648x504 with 1 Axes>"
      ]
     },
     "metadata": {
      "needs_background": "light"
     },
     "output_type": "display_data"
    }
   ],
   "source": [
    "L0, J0=sol0.t, sol0.y[0, :]\n",
    "L1, J1=sol1.t, sol1.y[0, :]\n",
    "\n",
    "fig=plt.figure()\n",
    "ax=fig.add_subplot(111)\n",
    "ax.plot(L0, J0)\n",
    "ax.plot(L1, J1, ls=':')"
   ]
  },
  {
   "cell_type": "code",
   "execution_count": 48,
   "metadata": {
    "Collapsed": "false"
   },
   "outputs": [
    {
     "data": {
      "text/plain": [
       "[<matplotlib.lines.Line2D at 0x7fba827f2588>]"
      ]
     },
     "execution_count": 48,
     "metadata": {},
     "output_type": "execute_result"
    },
    {
     "data": {
      "image/png": "[encoded data removed]",
      "text/plain": [
       "<Figure size 648x504 with 1 Axes>"
      ]
     },
     "metadata": {
      "needs_background": "light"
     },
     "output_type": "display_data"
    }
   ],
   "source": [
    "S_vect, chi_vect1, chi_vect2 = find_S_chi_contour(J0[-1]*S_Mt, L0[-1]*S_Mt, e_vs_L_func0(L_1kM_0), par_JL, nPt=1000)\n",
    "\n",
    "fig=plt.figure()\n",
    "ax=fig.add_subplot(111)\n",
    "ax.plot(S_vect/S_Mt, chi_vect1)\n",
    "ax.plot(S_vect/S_Mt, chi_vect2)"
   ]
  },
  {
   "cell_type": "code",
   "execution_count": 51,
   "metadata": {
    "Collapsed": "false"
   },
   "outputs": [
    {
     "data": {
      "text/plain": [
       "0"
      ]
     },
     "execution_count": 51,
     "metadata": {},
     "output_type": "execute_result"
    }
   ],
   "source": [
    "np.argmin([1,1,3])"
   ]
  },
  {
   "cell_type": "code",
   "execution_count": null,
   "metadata": {
    "Collapsed": "false"
   },
   "outputs": [],
   "source": []
  }
 ],
 "metadata": {
  "kernelspec": {
   "display_name": "ligo-py37",
   "language": "python",
   "name": "ligo-py37"
  },
  "language_info": {
   "codemirror_mode": {
    "name": "ipython",
    "version": 3
   },
   "file_extension": ".py",
   "mimetype": "text/x-python",
   "name": "python",
   "nbconvert_exporter": "python",
   "pygments_lexer": "ipython3",
   "version": "3.7.3"
  }
 },
 "nbformat": 4,
 "nbformat_minor": 4
}
